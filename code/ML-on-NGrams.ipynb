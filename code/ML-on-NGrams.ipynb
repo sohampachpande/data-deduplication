{
 "cells": [
  {
   "cell_type": "code",
   "execution_count": 1,
   "id": "547fc928",
   "metadata": {},
   "outputs": [],
   "source": [
    "import pandas as pd\n",
    "from sklearn.model_selection import train_test_split\n",
    "from sklearn.metrics import classification_report,confusion_matrix\n",
    "\n",
    "from dedup_lib.utils import makeCFwithStats"
   ]
  },
  {
   "cell_type": "markdown",
   "id": "901a48f7",
   "metadata": {},
   "source": [
    "### Read Data and process Data"
   ]
  },
  {
   "cell_type": "code",
   "execution_count": 2,
   "id": "384b2aed",
   "metadata": {},
   "outputs": [],
   "source": [
    "data_path = \"featurizedData/featurizednGramsData.csv\"\n",
    "df0=pd.read_csv(data_path)"
   ]
  },
  {
   "cell_type": "code",
   "execution_count": 3,
   "id": "d000a76e",
   "metadata": {},
   "outputs": [],
   "source": [
    "df1=df0[df0['isDuplicate']==0].sample(n=7000)\n",
    "df2=df0[df0['isDuplicate']==1]\n",
    "\n",
    "df=pd.concat([df1,df2])"
   ]
  },
  {
   "cell_type": "code",
   "execution_count": 4,
   "id": "4356b449",
   "metadata": {},
   "outputs": [
    {
     "data": {
      "text/html": [
       "<div>\n",
       "<style scoped>\n",
       "    .dataframe tbody tr th:only-of-type {\n",
       "        vertical-align: middle;\n",
       "    }\n",
       "\n",
       "    .dataframe tbody tr th {\n",
       "        vertical-align: top;\n",
       "    }\n",
       "\n",
       "    .dataframe thead th {\n",
       "        text-align: right;\n",
       "    }\n",
       "</style>\n",
       "<table border=\"1\" class=\"dataframe\">\n",
       "  <thead>\n",
       "    <tr style=\"text-align: right;\">\n",
       "      <th></th>\n",
       "      <th>w1</th>\n",
       "      <th>w2</th>\n",
       "      <th>count1</th>\n",
       "      <th>count2</th>\n",
       "      <th>total1</th>\n",
       "      <th>total2</th>\n",
       "      <th>isDuplicate</th>\n",
       "      <th>w1_number_of_words</th>\n",
       "      <th>w2_number_of_words</th>\n",
       "      <th>w1_unigram_a</th>\n",
       "      <th>...</th>\n",
       "      <th>w2_bigram_ q</th>\n",
       "      <th>w2_bigram_ r</th>\n",
       "      <th>w2_bigram_ s</th>\n",
       "      <th>w2_bigram_ t</th>\n",
       "      <th>w2_bigram_ u</th>\n",
       "      <th>w2_bigram_ v</th>\n",
       "      <th>w2_bigram_ w</th>\n",
       "      <th>w2_bigram_ x</th>\n",
       "      <th>w2_bigram_ y</th>\n",
       "      <th>w2_bigram_ z</th>\n",
       "    </tr>\n",
       "  </thead>\n",
       "  <tbody>\n",
       "    <tr>\n",
       "      <th>11803</th>\n",
       "      <td>memoir writing workshop</td>\n",
       "      <td>korean language &amp; culture</td>\n",
       "      <td>1.0</td>\n",
       "      <td>1.0</td>\n",
       "      <td>31212.0</td>\n",
       "      <td>31212.0</td>\n",
       "      <td>0.0</td>\n",
       "      <td>3</td>\n",
       "      <td>4</td>\n",
       "      <td>0</td>\n",
       "      <td>...</td>\n",
       "      <td>0</td>\n",
       "      <td>0</td>\n",
       "      <td>0</td>\n",
       "      <td>0</td>\n",
       "      <td>0</td>\n",
       "      <td>0</td>\n",
       "      <td>0</td>\n",
       "      <td>0</td>\n",
       "      <td>0</td>\n",
       "      <td>0</td>\n",
       "    </tr>\n",
       "    <tr>\n",
       "      <th>39123</th>\n",
       "      <td>sc</td>\n",
       "      <td>alabama</td>\n",
       "      <td>346.0</td>\n",
       "      <td>346.0</td>\n",
       "      <td>374362.0</td>\n",
       "      <td>374362.0</td>\n",
       "      <td>0.0</td>\n",
       "      <td>1</td>\n",
       "      <td>1</td>\n",
       "      <td>0</td>\n",
       "      <td>...</td>\n",
       "      <td>0</td>\n",
       "      <td>0</td>\n",
       "      <td>0</td>\n",
       "      <td>0</td>\n",
       "      <td>0</td>\n",
       "      <td>0</td>\n",
       "      <td>0</td>\n",
       "      <td>0</td>\n",
       "      <td>0</td>\n",
       "      <td>0</td>\n",
       "    </tr>\n",
       "    <tr>\n",
       "      <th>16786</th>\n",
       "      <td>korean won</td>\n",
       "      <td>lebanese pound</td>\n",
       "      <td>982.0</td>\n",
       "      <td>982.0</td>\n",
       "      <td>68023.0</td>\n",
       "      <td>68023.0</td>\n",
       "      <td>0.0</td>\n",
       "      <td>2</td>\n",
       "      <td>2</td>\n",
       "      <td>1</td>\n",
       "      <td>...</td>\n",
       "      <td>0</td>\n",
       "      <td>0</td>\n",
       "      <td>0</td>\n",
       "      <td>0</td>\n",
       "      <td>0</td>\n",
       "      <td>0</td>\n",
       "      <td>0</td>\n",
       "      <td>0</td>\n",
       "      <td>0</td>\n",
       "      <td>0</td>\n",
       "    </tr>\n",
       "    <tr>\n",
       "      <th>4360</th>\n",
       "      <td>new zealand dollars</td>\n",
       "      <td>cuban peso</td>\n",
       "      <td>129.0</td>\n",
       "      <td>129.0</td>\n",
       "      <td>48269.0</td>\n",
       "      <td>48269.0</td>\n",
       "      <td>0.0</td>\n",
       "      <td>3</td>\n",
       "      <td>2</td>\n",
       "      <td>3</td>\n",
       "      <td>...</td>\n",
       "      <td>0</td>\n",
       "      <td>0</td>\n",
       "      <td>0</td>\n",
       "      <td>0</td>\n",
       "      <td>0</td>\n",
       "      <td>0</td>\n",
       "      <td>0</td>\n",
       "      <td>0</td>\n",
       "      <td>0</td>\n",
       "      <td>0</td>\n",
       "    </tr>\n",
       "    <tr>\n",
       "      <th>15001</th>\n",
       "      <td>8078</td>\n",
       "      <td>5693</td>\n",
       "      <td>1.0</td>\n",
       "      <td>1.0</td>\n",
       "      <td>374362.0</td>\n",
       "      <td>374362.0</td>\n",
       "      <td>0.0</td>\n",
       "      <td>1</td>\n",
       "      <td>1</td>\n",
       "      <td>0</td>\n",
       "      <td>...</td>\n",
       "      <td>0</td>\n",
       "      <td>0</td>\n",
       "      <td>0</td>\n",
       "      <td>0</td>\n",
       "      <td>0</td>\n",
       "      <td>0</td>\n",
       "      <td>0</td>\n",
       "      <td>0</td>\n",
       "      <td>0</td>\n",
       "      <td>0</td>\n",
       "    </tr>\n",
       "  </tbody>\n",
       "</table>\n",
       "<p>5 rows × 1467 columns</p>\n",
       "</div>"
      ],
      "text/plain": [
       "                            w1                         w2  count1  count2  \\\n",
       "11803  memoir writing workshop  korean language & culture     1.0     1.0   \n",
       "39123                       sc                    alabama   346.0   346.0   \n",
       "16786               korean won             lebanese pound   982.0   982.0   \n",
       "4360       new zealand dollars                 cuban peso   129.0   129.0   \n",
       "15001                     8078                       5693     1.0     1.0   \n",
       "\n",
       "         total1    total2  isDuplicate  w1_number_of_words  \\\n",
       "11803   31212.0   31212.0          0.0                   3   \n",
       "39123  374362.0  374362.0          0.0                   1   \n",
       "16786   68023.0   68023.0          0.0                   2   \n",
       "4360    48269.0   48269.0          0.0                   3   \n",
       "15001  374362.0  374362.0          0.0                   1   \n",
       "\n",
       "       w2_number_of_words  w1_unigram_a  ...  w2_bigram_ q  w2_bigram_ r  \\\n",
       "11803                   4             0  ...             0             0   \n",
       "39123                   1             0  ...             0             0   \n",
       "16786                   2             1  ...             0             0   \n",
       "4360                    2             3  ...             0             0   \n",
       "15001                   1             0  ...             0             0   \n",
       "\n",
       "       w2_bigram_ s  w2_bigram_ t  w2_bigram_ u  w2_bigram_ v  w2_bigram_ w  \\\n",
       "11803             0             0             0             0             0   \n",
       "39123             0             0             0             0             0   \n",
       "16786             0             0             0             0             0   \n",
       "4360              0             0             0             0             0   \n",
       "15001             0             0             0             0             0   \n",
       "\n",
       "       w2_bigram_ x  w2_bigram_ y  w2_bigram_ z  \n",
       "11803             0             0             0  \n",
       "39123             0             0             0  \n",
       "16786             0             0             0  \n",
       "4360              0             0             0  \n",
       "15001             0             0             0  \n",
       "\n",
       "[5 rows x 1467 columns]"
      ]
     },
     "execution_count": 4,
     "metadata": {},
     "output_type": "execute_result"
    }
   ],
   "source": [
    "df.head()"
   ]
  },
  {
   "cell_type": "code",
   "execution_count": 5,
   "id": "939cd4e9",
   "metadata": {},
   "outputs": [],
   "source": [
    "X_train, X_test, y_train, y_test = train_test_split(df.drop(['isDuplicate','w1','w2','total1','total2','count1','count2'],axis=1), \n",
    "                                                    df['isDuplicate'], test_size=0.3)"
   ]
  },
  {
   "cell_type": "markdown",
   "id": "861373cd",
   "metadata": {},
   "source": [
    "## Logistic Regression Model"
   ]
  },
  {
   "cell_type": "code",
   "execution_count": 6,
   "id": "9099c6f2",
   "metadata": {},
   "outputs": [
    {
     "name": "stderr",
     "output_type": "stream",
     "text": [
      "/home/sohampachpande/miniconda3/envs/torch/lib/python3.8/site-packages/sklearn/linear_model/_logistic.py:814: ConvergenceWarning: lbfgs failed to converge (status=1):\n",
      "STOP: TOTAL NO. of ITERATIONS REACHED LIMIT.\n",
      "\n",
      "Increase the number of iterations (max_iter) or scale the data as shown in:\n",
      "    https://scikit-learn.org/stable/modules/preprocessing.html\n",
      "Please also refer to the documentation for alternative solver options:\n",
      "    https://scikit-learn.org/stable/modules/linear_model.html#logistic-regression\n",
      "  n_iter_i = _check_optimize_result(\n"
     ]
    }
   ],
   "source": [
    "from sklearn.linear_model import LogisticRegression\n",
    "logmodel = LogisticRegression()\n",
    "logmodel.fit(X_train,y_train)\n",
    "predictions = logmodel.predict(X_test)"
   ]
  },
  {
   "cell_type": "code",
   "execution_count": 7,
   "id": "38b5a9a2",
   "metadata": {},
   "outputs": [
    {
     "data": {
      "image/png": "[encoded data removed]",
      "text/plain": [
       "<Figure size 432x360 with 2 Axes>"
      ]
     },
     "metadata": {
      "needs_background": "light"
     },
     "output_type": "display_data"
    },
    {
     "name": "stdout",
     "output_type": "stream",
     "text": [
      "              precision    recall  f1-score   support\n",
      "\n",
      "         0.0       0.77      0.76      0.77      2085\n",
      "         1.0       0.74      0.75      0.75      1872\n",
      "\n",
      "    accuracy                           0.76      3957\n",
      "   macro avg       0.76      0.76      0.76      3957\n",
      "weighted avg       0.76      0.76      0.76      3957\n",
      "\n"
     ]
    }
   ],
   "source": [
    "makeCFwithStats(predictions, y_test)\n",
    "print(classification_report(y_test, predictions))"
   ]
  },
  {
   "cell_type": "code",
   "execution_count": 8,
   "id": "1e04fa87",
   "metadata": {},
   "outputs": [
    {
     "data": {
      "image/png": "[encoded data removed]",
      "text/plain": [
       "<Figure size 432x360 with 2 Axes>"
      ]
     },
     "metadata": {
      "needs_background": "light"
     },
     "output_type": "display_data"
    },
    {
     "name": "stdout",
     "output_type": "stream",
     "text": [
      "              precision    recall  f1-score   support\n",
      "\n",
      "         0.0       0.70      0.88      0.78      2085\n",
      "         1.0       0.81      0.58      0.68      1872\n",
      "\n",
      "    accuracy                           0.74      3957\n",
      "   macro avg       0.76      0.73      0.73      3957\n",
      "weighted avg       0.75      0.74      0.73      3957\n",
      "\n"
     ]
    }
   ],
   "source": [
    "# SVM\n",
    "\n",
    "from sklearn.svm import SVC\n",
    "svm = SVC()\n",
    "svm.fit(X_train,y_train)\n",
    "predictions = svm.predict(X_test)\n",
    "makeCFwithStats(predictions, y_test)\n",
    "print(classification_report(y_test, predictions))"
   ]
  },
  {
   "cell_type": "code",
   "execution_count": 9,
   "id": "6d2cafee",
   "metadata": {},
   "outputs": [
    {
     "data": {
      "image/png": "[encoded data removed]",
      "text/plain": [
       "<Figure size 432x360 with 2 Axes>"
      ]
     },
     "metadata": {
      "needs_background": "light"
     },
     "output_type": "display_data"
    },
    {
     "name": "stdout",
     "output_type": "stream",
     "text": [
      "              precision    recall  f1-score   support\n",
      "\n",
      "         0.0       0.94      0.95      0.95      2085\n",
      "         1.0       0.95      0.94      0.94      1872\n",
      "\n",
      "    accuracy                           0.95      3957\n",
      "   macro avg       0.95      0.95      0.95      3957\n",
      "weighted avg       0.95      0.95      0.95      3957\n",
      "\n"
     ]
    }
   ],
   "source": [
    "from sklearn.ensemble import RandomForestClassifier\n",
    "model = RandomForestClassifier(n_estimators=100, \n",
    "                               bootstrap = True,\n",
    "                               max_features = 'sqrt')\n",
    "model.fit(X_train, y_train)\n",
    "predictions=model.predict(X_test)\n",
    "makeCFwithStats(predictions, y_test)\n",
    "print(classification_report(y_test, predictions))"
   ]
  },
  {
   "cell_type": "code",
   "execution_count": null,
   "id": "4361be5a",
   "metadata": {},
   "outputs": [],
   "source": [
    "`"
   ]
  }
 ],
 "metadata": {
  "kernelspec": {
   "display_name": "Python 3 (ipykernel)",
   "language": "python",
   "name": "python3"
  },
  "language_info": {
   "codemirror_mode": {
    "name": "ipython",
    "version": 3
   },
   "file_extension": ".py",
   "mimetype": "text/x-python",
   "name": "python",
   "nbconvert_exporter": "python",
   "pygments_lexer": "ipython3",
   "version": "3.8.12"
  }
 },
 "nbformat": 4,
 "nbformat_minor": 5
}
