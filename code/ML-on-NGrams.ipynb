{
 "cells": [
  {
   "cell_type": "code",
   "execution_count": 1,
   "id": "547fc928",
   "metadata": {},
   "outputs": [],
   "source": [
    "import pandas as pd\n",
    "from sklearn.model_selection import train_test_split\n",
    "\n",
    "from dedup_lib.utils import makeCFwithStats"
   ]
  },
  {
   "cell_type": "markdown",
   "id": "901a48f7",
   "metadata": {},
   "source": [
    "### Read Data and process Data"
   ]
  },
  {
   "cell_type": "code",
   "execution_count": 20,
   "id": "384b2aed",
   "metadata": {},
   "outputs": [],
   "source": [
    "data_path = \"featurizedData/featurizednGramsData.csv\"\n",
    "df0=pd.read_csv(data_path)"
   ]
  },
  {
   "cell_type": "code",
   "execution_count": 21,
   "id": "d000a76e",
   "metadata": {},
   "outputs": [],
   "source": [
    "df1=df0[df0['isDuplicate']==0].sample(n=7000)\n",
    "df2=df0[df0['isDuplicate']==1]\n",
    "\n",
    "df=pd.concat([df1,df2])"
   ]
  },
  {
   "cell_type": "code",
   "execution_count": 22,
   "id": "4356b449",
   "metadata": {},
   "outputs": [
    {
     "data": {
      "text/html": [
       "<div>\n",
       "<style scoped>\n",
       "    .dataframe tbody tr th:only-of-type {\n",
       "        vertical-align: middle;\n",
       "    }\n",
       "\n",
       "    .dataframe tbody tr th {\n",
       "        vertical-align: top;\n",
       "    }\n",
       "\n",
       "    .dataframe thead th {\n",
       "        text-align: right;\n",
       "    }\n",
       "</style>\n",
       "<table border=\"1\" class=\"dataframe\">\n",
       "  <thead>\n",
       "    <tr style=\"text-align: right;\">\n",
       "      <th></th>\n",
       "      <th>w1</th>\n",
       "      <th>w2</th>\n",
       "      <th>count1</th>\n",
       "      <th>count2</th>\n",
       "      <th>total1</th>\n",
       "      <th>total2</th>\n",
       "      <th>isDuplicate</th>\n",
       "      <th>w1_number_of_words</th>\n",
       "      <th>w2_number_of_words</th>\n",
       "      <th>w1_unigram_a</th>\n",
       "      <th>...</th>\n",
       "      <th>w2_bigram_ q</th>\n",
       "      <th>w2_bigram_ r</th>\n",
       "      <th>w2_bigram_ s</th>\n",
       "      <th>w2_bigram_ t</th>\n",
       "      <th>w2_bigram_ u</th>\n",
       "      <th>w2_bigram_ v</th>\n",
       "      <th>w2_bigram_ w</th>\n",
       "      <th>w2_bigram_ x</th>\n",
       "      <th>w2_bigram_ y</th>\n",
       "      <th>w2_bigram_ z</th>\n",
       "    </tr>\n",
       "  </thead>\n",
       "  <tbody>\n",
       "    <tr>\n",
       "      <th>28470</th>\n",
       "      <td>altamira rio piedros</td>\n",
       "      <td>las marias</td>\n",
       "      <td>1.0</td>\n",
       "      <td>1.0</td>\n",
       "      <td>1351.0</td>\n",
       "      <td>1351.0</td>\n",
       "      <td>0.0</td>\n",
       "      <td>3</td>\n",
       "      <td>2</td>\n",
       "      <td>3</td>\n",
       "      <td>...</td>\n",
       "      <td>0</td>\n",
       "      <td>0</td>\n",
       "      <td>0</td>\n",
       "      <td>0</td>\n",
       "      <td>0</td>\n",
       "      <td>0</td>\n",
       "      <td>0</td>\n",
       "      <td>0</td>\n",
       "      <td>0</td>\n",
       "      <td>0</td>\n",
       "    </tr>\n",
       "    <tr>\n",
       "      <th>15030</th>\n",
       "      <td>guinean franc</td>\n",
       "      <td>guyana dollar</td>\n",
       "      <td>1.0</td>\n",
       "      <td>1.0</td>\n",
       "      <td>263.0</td>\n",
       "      <td>263.0</td>\n",
       "      <td>0.0</td>\n",
       "      <td>2</td>\n",
       "      <td>2</td>\n",
       "      <td>2</td>\n",
       "      <td>...</td>\n",
       "      <td>0</td>\n",
       "      <td>0</td>\n",
       "      <td>0</td>\n",
       "      <td>0</td>\n",
       "      <td>0</td>\n",
       "      <td>0</td>\n",
       "      <td>0</td>\n",
       "      <td>0</td>\n",
       "      <td>0</td>\n",
       "      <td>0</td>\n",
       "    </tr>\n",
       "    <tr>\n",
       "      <th>1593</th>\n",
       "      <td>chicago, il 60613</td>\n",
       "      <td>san francisco/oakland or your ho</td>\n",
       "      <td>1.0</td>\n",
       "      <td>1.0</td>\n",
       "      <td>107093.0</td>\n",
       "      <td>107093.0</td>\n",
       "      <td>0.0</td>\n",
       "      <td>3</td>\n",
       "      <td>5</td>\n",
       "      <td>1</td>\n",
       "      <td>...</td>\n",
       "      <td>0</td>\n",
       "      <td>0</td>\n",
       "      <td>0</td>\n",
       "      <td>0</td>\n",
       "      <td>0</td>\n",
       "      <td>0</td>\n",
       "      <td>0</td>\n",
       "      <td>0</td>\n",
       "      <td>1</td>\n",
       "      <td>0</td>\n",
       "    </tr>\n",
       "    <tr>\n",
       "      <th>34868</th>\n",
       "      <td>elliminyt</td>\n",
       "      <td>north geelong</td>\n",
       "      <td>797.0</td>\n",
       "      <td>797.0</td>\n",
       "      <td>158026.0</td>\n",
       "      <td>158026.0</td>\n",
       "      <td>0.0</td>\n",
       "      <td>27</td>\n",
       "      <td>4</td>\n",
       "      <td>0</td>\n",
       "      <td>...</td>\n",
       "      <td>0</td>\n",
       "      <td>0</td>\n",
       "      <td>0</td>\n",
       "      <td>0</td>\n",
       "      <td>0</td>\n",
       "      <td>0</td>\n",
       "      <td>0</td>\n",
       "      <td>0</td>\n",
       "      <td>0</td>\n",
       "      <td>0</td>\n",
       "    </tr>\n",
       "    <tr>\n",
       "      <th>29856</th>\n",
       "      <td>new york</td>\n",
       "      <td>il</td>\n",
       "      <td>16089.0</td>\n",
       "      <td>16089.0</td>\n",
       "      <td>374362.0</td>\n",
       "      <td>374362.0</td>\n",
       "      <td>0.0</td>\n",
       "      <td>2</td>\n",
       "      <td>1</td>\n",
       "      <td>0</td>\n",
       "      <td>...</td>\n",
       "      <td>0</td>\n",
       "      <td>0</td>\n",
       "      <td>0</td>\n",
       "      <td>0</td>\n",
       "      <td>0</td>\n",
       "      <td>0</td>\n",
       "      <td>0</td>\n",
       "      <td>0</td>\n",
       "      <td>0</td>\n",
       "      <td>0</td>\n",
       "    </tr>\n",
       "  </tbody>\n",
       "</table>\n",
       "<p>5 rows × 1467 columns</p>\n",
       "</div>"
      ],
      "text/plain": [
       "                                        w1                                w2  \\\n",
       "28470                 altamira rio piedros                        las marias   \n",
       "15030                        guinean franc                     guyana dollar   \n",
       "1593                     chicago, il 60613  san francisco/oakland or your ho   \n",
       "34868  elliminyt                                              north geelong    \n",
       "29856                             new york                                il   \n",
       "\n",
       "        count1   count2    total1    total2  isDuplicate  w1_number_of_words  \\\n",
       "28470      1.0      1.0    1351.0    1351.0          0.0                   3   \n",
       "15030      1.0      1.0     263.0     263.0          0.0                   2   \n",
       "1593       1.0      1.0  107093.0  107093.0          0.0                   3   \n",
       "34868    797.0    797.0  158026.0  158026.0          0.0                  27   \n",
       "29856  16089.0  16089.0  374362.0  374362.0          0.0                   2   \n",
       "\n",
       "       w2_number_of_words  w1_unigram_a  ...  w2_bigram_ q  w2_bigram_ r  \\\n",
       "28470                   2             3  ...             0             0   \n",
       "15030                   2             2  ...             0             0   \n",
       "1593                    5             1  ...             0             0   \n",
       "34868                   4             0  ...             0             0   \n",
       "29856                   1             0  ...             0             0   \n",
       "\n",
       "       w2_bigram_ s  w2_bigram_ t  w2_bigram_ u  w2_bigram_ v  w2_bigram_ w  \\\n",
       "28470             0             0             0             0             0   \n",
       "15030             0             0             0             0             0   \n",
       "1593              0             0             0             0             0   \n",
       "34868             0             0             0             0             0   \n",
       "29856             0             0             0             0             0   \n",
       "\n",
       "       w2_bigram_ x  w2_bigram_ y  w2_bigram_ z  \n",
       "28470             0             0             0  \n",
       "15030             0             0             0  \n",
       "1593              0             1             0  \n",
       "34868             0             0             0  \n",
       "29856             0             0             0  \n",
       "\n",
       "[5 rows x 1467 columns]"
      ]
     },
     "execution_count": 22,
     "metadata": {},
     "output_type": "execute_result"
    }
   ],
   "source": [
    "df.head()"
   ]
  },
  {
   "cell_type": "code",
   "execution_count": 23,
   "id": "939cd4e9",
   "metadata": {},
   "outputs": [],
   "source": [
    "X_train, X_test, y_train, y_test = train_test_split(df.drop(['isDuplicate','w1','w2','total1','total2','count1','count2'],axis=1), \n",
    "                                                    df['isDuplicate'], test_size=0.3)"
   ]
  },
  {
   "cell_type": "markdown",
   "id": "861373cd",
   "metadata": {},
   "source": [
    "## Logistic Regression Model"
   ]
  },
  {
   "cell_type": "code",
   "execution_count": 24,
   "id": "9099c6f2",
   "metadata": {},
   "outputs": [
    {
     "name": "stderr",
     "output_type": "stream",
     "text": [
      "/home/sohampachpande/miniconda3/envs/torch/lib/python3.8/site-packages/sklearn/linear_model/_logistic.py:814: ConvergenceWarning: lbfgs failed to converge (status=1):\n",
      "STOP: TOTAL NO. of ITERATIONS REACHED LIMIT.\n",
      "\n",
      "Increase the number of iterations (max_iter) or scale the data as shown in:\n",
      "    https://scikit-learn.org/stable/modules/preprocessing.html\n",
      "Please also refer to the documentation for alternative solver options:\n",
      "    https://scikit-learn.org/stable/modules/linear_model.html#logistic-regression\n",
      "  n_iter_i = _check_optimize_result(\n"
     ]
    }
   ],
   "source": [
    "from sklearn.linear_model import LogisticRegression\n",
    "logmodel = LogisticRegression()\n",
    "logmodel.fit(X_train,y_train)\n",
    "predictions = logmodel.predict(X_test)"
   ]
  },
  {
   "cell_type": "code",
   "execution_count": 25,
   "id": "38b5a9a2",
   "metadata": {},
   "outputs": [
    {
     "data": {
      "image/png": "[encoded data removed]",
      "text/plain": [
       "<Figure size 432x360 with 2 Axes>"
      ]
     },
     "metadata": {
      "needs_background": "light"
     },
     "output_type": "display_data"
    }
   ],
   "source": [
    "makeCFwithStats(predictions, y_test)"
   ]
  },
  {
   "cell_type": "code",
   "execution_count": 26,
   "id": "d823ae3a",
   "metadata": {},
   "outputs": [],
   "source": [
    "from sklearn.metrics import classification_report,confusion_matrix"
   ]
  },
  {
   "cell_type": "code",
   "execution_count": 27,
   "id": "31afe9bf",
   "metadata": {},
   "outputs": [
    {
     "name": "stdout",
     "output_type": "stream",
     "text": [
      "              precision    recall  f1-score   support\n",
      "\n",
      "         0.0       0.78      0.76      0.77      2104\n",
      "         1.0       0.73      0.76      0.75      1853\n",
      "\n",
      "    accuracy                           0.76      3957\n",
      "   macro avg       0.76      0.76      0.76      3957\n",
      "weighted avg       0.76      0.76      0.76      3957\n",
      "\n"
     ]
    }
   ],
   "source": [
    "print(classification_report(y_test, predictions))"
   ]
  },
  {
   "cell_type": "code",
   "execution_count": null,
   "id": "1e04fa87",
   "metadata": {},
   "outputs": [],
   "source": []
  }
 ],
 "metadata": {
  "kernelspec": {
   "display_name": "Python 3 (ipykernel)",
   "language": "python",
   "name": "python3"
  },
  "language_info": {
   "codemirror_mode": {
    "name": "ipython",
    "version": 3
   },
   "file_extension": ".py",
   "mimetype": "text/x-python",
   "name": "python",
   "nbconvert_exporter": "python",
   "pygments_lexer": "ipython3",
   "version": "3.8.12"
  }
 },
 "nbformat": 4,
 "nbformat_minor": 5
}
