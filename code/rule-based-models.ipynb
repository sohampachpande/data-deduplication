{
 "cells": [
  {
   "cell_type": "code",
   "execution_count": 2,
   "id": "ae6033fb",
   "metadata": {},
   "outputs": [],
   "source": [
    "import numpy as np\n",
    "import pandas as pd\n",
    "import matplotlib.pyplot as plt\n",
    "from sklearn.model_selection import train_test_split\n",
    "from sklearn.metrics import classification_report, roc_curve\n",
    "\n",
    "from heuristic_funcs import *"
   ]
  },
  {
   "cell_type": "code",
   "execution_count": 3,
   "id": "d0d619c4",
   "metadata": {},
   "outputs": [],
   "source": [
    "def auc_plot(y_test_arr, y_pred_arr):\n",
    "    fpr, tpr, thresholds = roc_curve(y_test_arr, y_pred_arr)\n",
    "    plt.plot(fpr,tpr)\n",
    "    plt.show()"
   ]
  },
  {
   "cell_type": "code",
   "execution_count": 4,
   "id": "4b8502db",
   "metadata": {},
   "outputs": [],
   "source": [
    "data_path = \"../data/dedup-data-6187_37728.csv\"\n",
    "\n",
    "df = pd.read_csv(data_path, usecols=['w1', 'w2', 'isDuplicate']).sample(frac=1).reset_index(drop=True)\n",
    "\n",
    "df_train=df[:int(0.7*len(df))]\n",
    "df_test =df[int(0.7*len(df)):]"
   ]
  },
  {
   "cell_type": "code",
   "execution_count": 5,
   "id": "fcf26d16",
   "metadata": {},
   "outputs": [
    {
     "data": {
      "text/plain": [
       "0.0    26368\n",
       "1.0     4372\n",
       "Name: isDuplicate, dtype: int64"
      ]
     },
     "execution_count": 5,
     "metadata": {},
     "output_type": "execute_result"
    }
   ],
   "source": [
    "df_train['isDuplicate'].value_counts()"
   ]
  },
  {
   "cell_type": "code",
   "execution_count": 7,
   "id": "5ab5415f",
   "metadata": {},
   "outputs": [
    {
     "name": "stderr",
     "output_type": "stream",
     "text": [
      "/tmp/ipykernel_422/3168972151.py:2: SettingWithCopyWarning: \n",
      "A value is trying to be set on a copy of a slice from a DataFrame.\n",
      "Try using .loc[row_indexer,col_indexer] = value instead\n",
      "\n",
      "See the caveats in the documentation: https://pandas.pydata.org/pandas-docs/stable/user_guide/indexing.html#returning-a-view-versus-a-copy\n",
      "  df_train['predictedDuplicated_{}'.format(th)] = df_train.apply(lambda x: isDuplicateHeuristic(x['w1'], x['w2'], threshold=th), axis=1)\n"
     ]
    }
   ],
   "source": [
    "for th in [3]:\n",
    "    df_train['predictedDuplicated_{}'.format(th)] = df_train.apply(lambda x: isDuplicateHeuristic(x['w1'], x['w2'], threshold=th), axis=1)"
   ]
  },
  {
   "cell_type": "code",
   "execution_count": 8,
   "id": "c7220ebb",
   "metadata": {
    "scrolled": false
   },
   "outputs": [
    {
     "name": "stdout",
     "output_type": "stream",
     "text": [
      "              precision    recall  f1-score   support\n",
      "\n",
      "         0.0       0.93      1.00      0.96     26368\n",
      "         1.0       0.96      0.54      0.69      4372\n",
      "\n",
      "    accuracy                           0.93     30740\n",
      "   macro avg       0.94      0.77      0.83     30740\n",
      "weighted avg       0.93      0.93      0.92     30740\n",
      "\n"
     ]
    },
    {
     "data": {
      "image/png": "[encoded data removed]",
      "text/plain": [
       "<Figure size 432x288 with 1 Axes>"
      ]
     },
     "metadata": {
      "needs_background": "light"
     },
     "output_type": "display_data"
    },
    {
     "name": "stdout",
     "output_type": "stream",
     "text": [
      "\n",
      "\n"
     ]
    }
   ],
   "source": [
    "for th in [3]:\n",
    "    print(classification_report(df_train['isDuplicate'], df_train['predictedDuplicated_{}'.format(th)], target_names=[\"0.0\",\"1.0\"]))\n",
    "    auc_plot(df_train['isDuplicate'], df_train['predictedDuplicated_{}'.format(th)])\n",
    "    print('\\n')"
   ]
  },
  {
   "cell_type": "code",
   "execution_count": 16,
   "id": "656dce65",
   "metadata": {},
   "outputs": [],
   "source": [
    "import seaborn as sn\n",
    "import pandas as pd\n",
    "import matplotlib.pyplot as plt\n",
    "from sklearn.metrics import confusion_matrix\n",
    "pd.set_option('display.float_format', '{:.3f}'.format)"
   ]
  },
  {
   "cell_type": "code",
   "execution_count": 31,
   "id": "ece34acd",
   "metadata": {},
   "outputs": [],
   "source": [
    "th=3\n",
    "y_truth, y_pred = df_train['isDuplicate'], df_train['predictedDuplicated_{}'.format(th)]"
   ]
  },
  {
   "cell_type": "code",
   "execution_count": 35,
   "id": "8976d61e",
   "metadata": {},
   "outputs": [],
   "source": [
    "import seaborn as sn\n",
    "import pandas as pd\n",
    "import matplotlib.pyplot as plt\n",
    "from sklearn.metrics import confusion_matrix\n",
    "def makeCFwithStats(y_pred, y_truth):\n",
    "    cf = confusion_matrix(y_truth, y_pred)\n",
    "    accuracy  = np.trace(cf) / float(np.sum(cf))\n",
    "    precision = cf[1,1] / sum(cf[:,1])\n",
    "    recall    = cf[1,1] / sum(cf[1,:])\n",
    "    f1_score  = 2*precision*recall / (precision + recall)\n",
    "    stats_text = \"\\n\\nAccuracy={:0.3f}\\nPrecision={:0.3f}\\nRecall={:0.3f}\\nF1 Score={:0.3f}\".format(accuracy,precision,recall,f1_score)\n",
    "\n",
    "    df_cm = pd.DataFrame(cf, index = [\"Not Duplicate\", \"Duplicate\"],\n",
    "                    columns = [\"Not Duplicate\", \"Duplicate\"])\n",
    "    plt.figure(figsize = (6,5))\n",
    "    sn.heatmap(df_cm/np.sum(cf), annot=True, fmt='.2%')\n",
    "    plt.ylabel('True label', fontsize=14)\n",
    "    plt.xlabel('Predicted label' + stats_text, fontsize=14)\n",
    "    plt.show()"
   ]
  },
  {
   "cell_type": "code",
   "execution_count": 36,
   "id": "64348848",
   "metadata": {},
   "outputs": [
    {
     "data": {
      "image/png": "[encoded data removed]",
      "text/plain": [
       "<Figure size 432x360 with 2 Axes>"
      ]
     },
     "metadata": {
      "needs_background": "light"
     },
     "output_type": "display_data"
    }
   ],
   "source": [
    "makeCFwithStats(y_pred, y_truth)"
   ]
  },
  {
   "cell_type": "code",
   "execution_count": null,
   "metadata": {},
   "outputs": [],
   "source": []
  }
 ],
 "metadata": {
  "interpreter": {
   "hash": "e2db466ff52d66022f9f91c796fc91b92f6c42d56a30aade30d4e70cac3fc604"
  },
  "kernelspec": {
   "display_name": "Python 3.8.12 64-bit ('torch': conda)",
   "name": "python3"
  },
  "language_info": {
   "codemirror_mode": {
    "name": "ipython",
    "version": 3
   },
   "file_extension": ".py",
   "mimetype": "text/x-python",
   "name": "python",
   "nbconvert_exporter": "python",
   "pygments_lexer": "ipython3",
   "version": "3.8.12"
  }
 },
 "nbformat": 4,
 "nbformat_minor": 5
}
