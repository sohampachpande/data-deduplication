{
 "cells": [
  {
   "cell_type": "code",
   "execution_count": 20,
   "id": "ee57bf52",
   "metadata": {},
   "outputs": [],
   "source": [
    "import pandas as pd\n",
    "import numpy as np\n",
    "from sklearn.model_selection import train_test_split\n",
    "from sklearn.metrics import classification_report,confusion_matrix\n",
    "from dedup_lib.utils import makeCFwithStats"
   ]
  },
  {
   "cell_type": "code",
   "execution_count": 2,
   "id": "0f123255",
   "metadata": {},
   "outputs": [],
   "source": [
    "data_path = \"featurizedData/distFeatureData.csv\"\n",
    "df=pd.read_csv(data_path)"
   ]
  },
  {
   "cell_type": "code",
   "execution_count": 3,
   "id": "ec8d2308",
   "metadata": {},
   "outputs": [
    {
     "data": {
      "text/html": [
       "<div>\n",
       "<style scoped>\n",
       "    .dataframe tbody tr th:only-of-type {\n",
       "        vertical-align: middle;\n",
       "    }\n",
       "\n",
       "    .dataframe tbody tr th {\n",
       "        vertical-align: top;\n",
       "    }\n",
       "\n",
       "    .dataframe thead th {\n",
       "        text-align: right;\n",
       "    }\n",
       "</style>\n",
       "<table border=\"1\" class=\"dataframe\">\n",
       "  <thead>\n",
       "    <tr style=\"text-align: right;\">\n",
       "      <th></th>\n",
       "      <th>w1</th>\n",
       "      <th>w2</th>\n",
       "      <th>count1</th>\n",
       "      <th>count2</th>\n",
       "      <th>total1</th>\n",
       "      <th>total2</th>\n",
       "      <th>isDuplicate</th>\n",
       "      <th>jaccard_1</th>\n",
       "      <th>jaccard_2</th>\n",
       "      <th>jaccard_3</th>\n",
       "      <th>cosine_1</th>\n",
       "      <th>cosine_2</th>\n",
       "      <th>cosine_3</th>\n",
       "      <th>w_levenshtein</th>\n",
       "    </tr>\n",
       "  </thead>\n",
       "  <tbody>\n",
       "    <tr>\n",
       "      <th>0</th>\n",
       "      <td>libya</td>\n",
       "      <td>lesotho</td>\n",
       "      <td>89.0</td>\n",
       "      <td>368.0</td>\n",
       "      <td>48269.0</td>\n",
       "      <td>48269.0</td>\n",
       "      <td>0.0</td>\n",
       "      <td>0.900000</td>\n",
       "      <td>1.000000</td>\n",
       "      <td>1.000000</td>\n",
       "      <td>0.850929</td>\n",
       "      <td>1.000000</td>\n",
       "      <td>1.000000</td>\n",
       "      <td>6.0</td>\n",
       "    </tr>\n",
       "    <tr>\n",
       "      <th>1</th>\n",
       "      <td>00850-9846</td>\n",
       "      <td>09830-2602</td>\n",
       "      <td>1.0</td>\n",
       "      <td>1.0</td>\n",
       "      <td>1973.0</td>\n",
       "      <td>1973.0</td>\n",
       "      <td>0.0</td>\n",
       "      <td>0.444444</td>\n",
       "      <td>0.875000</td>\n",
       "      <td>1.000000</td>\n",
       "      <td>0.222222</td>\n",
       "      <td>0.777778</td>\n",
       "      <td>1.000000</td>\n",
       "      <td>6.0</td>\n",
       "    </tr>\n",
       "    <tr>\n",
       "      <th>2</th>\n",
       "      <td>a1050000006tnqi</td>\n",
       "      <td>a1050000000wves</td>\n",
       "      <td>265.0</td>\n",
       "      <td>151.0</td>\n",
       "      <td>4861.0</td>\n",
       "      <td>4861.0</td>\n",
       "      <td>0.0</td>\n",
       "      <td>0.692308</td>\n",
       "      <td>0.642857</td>\n",
       "      <td>0.642857</td>\n",
       "      <td>0.072561</td>\n",
       "      <td>0.120951</td>\n",
       "      <td>0.164427</td>\n",
       "      <td>5.0</td>\n",
       "    </tr>\n",
       "    <tr>\n",
       "      <th>3</th>\n",
       "      <td>plus_statistical_discrepancy</td>\n",
       "      <td>imports_of_services</td>\n",
       "      <td>5504.0</td>\n",
       "      <td>7982.0</td>\n",
       "      <td>191325.0</td>\n",
       "      <td>191325.0</td>\n",
       "      <td>0.0</td>\n",
       "      <td>0.555556</td>\n",
       "      <td>0.923077</td>\n",
       "      <td>1.000000</td>\n",
       "      <td>0.313096</td>\n",
       "      <td>0.876909</td>\n",
       "      <td>1.000000</td>\n",
       "      <td>23.0</td>\n",
       "    </tr>\n",
       "    <tr>\n",
       "      <th>4</th>\n",
       "      <td>ca-mb ca-sb sb</td>\n",
       "      <td>ca-mb ca-sb ca-sbe cdvbe mbe mosb sb sbasdb sd...</td>\n",
       "      <td>3781.0</td>\n",
       "      <td>1.0</td>\n",
       "      <td>346018.0</td>\n",
       "      <td>346018.0</td>\n",
       "      <td>0.0</td>\n",
       "      <td>0.363636</td>\n",
       "      <td>0.590909</td>\n",
       "      <td>0.666667</td>\n",
       "      <td>0.088993</td>\n",
       "      <td>0.190076</td>\n",
       "      <td>0.279512</td>\n",
       "      <td>36.0</td>\n",
       "    </tr>\n",
       "  </tbody>\n",
       "</table>\n",
       "</div>"
      ],
      "text/plain": [
       "                             w1  \\\n",
       "0                         libya   \n",
       "1                    00850-9846   \n",
       "2               a1050000006tnqi   \n",
       "3  plus_statistical_discrepancy   \n",
       "4                ca-mb ca-sb sb   \n",
       "\n",
       "                                                  w2  count1  count2  \\\n",
       "0                                            lesotho    89.0   368.0   \n",
       "1                                         09830-2602     1.0     1.0   \n",
       "2                                    a1050000000wves   265.0   151.0   \n",
       "3                                imports_of_services  5504.0  7982.0   \n",
       "4  ca-mb ca-sb ca-sbe cdvbe mbe mosb sb sbasdb sd...  3781.0     1.0   \n",
       "\n",
       "     total1    total2  isDuplicate  jaccard_1  jaccard_2  jaccard_3  cosine_1  \\\n",
       "0   48269.0   48269.0          0.0   0.900000   1.000000   1.000000  0.850929   \n",
       "1    1973.0    1973.0          0.0   0.444444   0.875000   1.000000  0.222222   \n",
       "2    4861.0    4861.0          0.0   0.692308   0.642857   0.642857  0.072561   \n",
       "3  191325.0  191325.0          0.0   0.555556   0.923077   1.000000  0.313096   \n",
       "4  346018.0  346018.0          0.0   0.363636   0.590909   0.666667  0.088993   \n",
       "\n",
       "   cosine_2  cosine_3  w_levenshtein  \n",
       "0  1.000000  1.000000            6.0  \n",
       "1  0.777778  1.000000            6.0  \n",
       "2  0.120951  0.164427            5.0  \n",
       "3  0.876909  1.000000           23.0  \n",
       "4  0.190076  0.279512           36.0  "
      ]
     },
     "execution_count": 3,
     "metadata": {},
     "output_type": "execute_result"
    }
   ],
   "source": [
    "df.head()"
   ]
  },
  {
   "cell_type": "markdown",
   "id": "571273e1",
   "metadata": {},
   "source": [
    "# Nested Cross Validation"
   ]
  },
  {
   "cell_type": "code",
   "execution_count": 4,
   "id": "c158b7ea",
   "metadata": {},
   "outputs": [],
   "source": [
    "X=[]\n",
    "y=[]\n",
    "df_ncv=df.drop(['w1','w2','w_levenshtein'],axis=1)\n",
    "for i in range(len(df_ncv)):\n",
    "    row=df.loc[i]\n",
    "    X.append([row['jaccard_1'],row['jaccard_2'],row['jaccard_3'],row['cosine_1'],row['cosine_2'],row['cosine_3']])\n",
    "    y.append(row['isDuplicate'])\n",
    "X=np.array(X)\n",
    "y=np.array(y)"
   ]
  },
  {
   "cell_type": "code",
   "execution_count": 26,
   "id": "f31ad67c",
   "metadata": {},
   "outputs": [
    {
     "name": "stdout",
     "output_type": "stream",
     "text": [
      "accuracy=0.986, best score=0.984, features={'max_features': 2, 'n_estimators': 50}\n",
      "accuracy=0.990, best score=0.983, features={'max_features': 2, 'n_estimators': 100}\n",
      "accuracy=0.990, best score=0.986, features={'max_features': 2, 'n_estimators': 50}\n",
      "accuracy=0.987, best score=0.983, features={'max_features': 2, 'n_estimators': 50}\n",
      "accuracy=0.987, best score=0.983, features={'max_features': 2, 'n_estimators': 50}\n",
      "accuracy=0.985, best score=0.983, features={'max_features': 4, 'n_estimators': 100}\n",
      "accuracy=0.991, best score=0.983, features={'max_features': 2, 'n_estimators': 100}\n",
      "accuracy=0.994, best score=0.984, features={'max_features': 2, 'n_estimators': 100}\n",
      "accuracy=0.988, best score=0.983, features={'max_features': 4, 'n_estimators': 100}\n",
      "accuracy=0.991, best score=0.986, features={'max_features': 4, 'n_estimators': 100}\n",
      "Accuracy: 0.989 (0.003)\n"
     ]
    }
   ],
   "source": [
    "from sklearn.model_selection import KFold,GridSearchCV\n",
    "from sklearn.metrics import accuracy_score\n",
    "from sklearn.ensemble import RandomForestClassifier\n",
    "from numpy import mean\n",
    "from numpy import std\n",
    "def nested_CV(X,y):\n",
    "    bestModelGlobal = None\n",
    "    bestAcc = 0\n",
    "    cv_outer = KFold(n_splits=10, shuffle=True, random_state=1)\n",
    "    # enumerate splits\n",
    "    outer_results = list()\n",
    "    for train_ix, test_ix in cv_outer.split(X):\n",
    "        # split data\n",
    "        X_train, X_test = X[train_ix, :], X[test_ix, :]\n",
    "        y_train, y_test = y[train_ix], y[test_ix]\n",
    "        cv_inner = KFold(n_splits=3, shuffle=True, random_state=1)\n",
    "        model = RandomForestClassifier(random_state=1)\n",
    "        space = dict()\n",
    "        space['n_estimators'] = [10, 50, 100]\n",
    "        space['max_features'] = [2, 4, 6]\n",
    "        search = GridSearchCV(model, space, scoring='accuracy', cv=cv_inner, refit=True)\n",
    "        result = search.fit(X_train, y_train)\n",
    "        best_model = result.best_estimator_\n",
    "        preds = best_model.predict(X_test)\n",
    "        acc = accuracy_score(y_test, preds)\n",
    "        if acc>bestAcc:\n",
    "            bestAcc = acc\n",
    "            bestModelGlobal = best_model\n",
    "        outer_results.append(acc)\n",
    "        print('accuracy=%.3f, best score=%.3f, features=%s' % (acc, result.best_score_, result.best_params_))\n",
    "    print('Accuracy: %.3f (%.3f)' % (mean(outer_results), std(outer_results)))\n",
    "    \n",
    "    return bestModelGlobal\n",
    "bestModelGlobal = nested_CV(X,y)"
   ]
  },
  {
   "cell_type": "markdown",
   "id": "0cc95bbd",
   "metadata": {},
   "source": [
    "# Hold Out Cross Validation"
   ]
  },
  {
   "cell_type": "code",
   "execution_count": 11,
   "id": "76e25cad",
   "metadata": {},
   "outputs": [],
   "source": [
    "data_path = \"featurizedData/distFeatureData_holdOutTrain.csv\"\n",
    "df_train=pd.read_csv(data_path)\n",
    "data_path = \"featurizedData/distFeatureData_holdOutTest.csv\"\n",
    "df_test=pd.read_csv(data_path)"
   ]
  },
  {
   "cell_type": "code",
   "execution_count": 14,
   "id": "119fabce",
   "metadata": {},
   "outputs": [],
   "source": [
    "X_train=[]\n",
    "y_train=[]\n",
    "df_ncv=df_train.drop(['w1','w2'],axis=1)\n",
    "for i in range(len(df_ncv)):\n",
    "    row=df_train.loc[i]\n",
    "    X_train.append([row['jaccard_1'],row['jaccard_2'],row['jaccard_3'],row['cosine_1'],row['cosine_2'],row['cosine_3'],row['w_levenshtein']])\n",
    "    y_train.append(row['isDuplicate'])\n",
    "X_train=np.array(X_train)\n",
    "y_train=np.array(y_train)"
   ]
  },
  {
   "cell_type": "code",
   "execution_count": 15,
   "id": "9a13ae6a",
   "metadata": {},
   "outputs": [],
   "source": [
    "X_test=[]\n",
    "y_test=[]\n",
    "df_ncv=df_test.drop(['w1','w2'],axis=1)\n",
    "for i in range(len(df_ncv)):\n",
    "    row=df_test.loc[i]\n",
    "    X_test.append([row['jaccard_1'],row['jaccard_2'],row['jaccard_3'],row['cosine_1'],row['cosine_2'],row['cosine_3'],row['w_levenshtein']])\n",
    "    y_test.append(row['isDuplicate'])\n",
    "X_test=np.array(X_test)\n",
    "y_test=np.array(y_test)"
   ]
  },
  {
   "cell_type": "code",
   "execution_count": 16,
   "id": "58f77a27",
   "metadata": {},
   "outputs": [
    {
     "name": "stdout",
     "output_type": "stream",
     "text": [
      "accuracy=0.996, best score=0.991, features={'max_features': 4, 'n_estimators': 50}\n",
      "accuracy=0.993, best score=0.989, features={'max_features': 6, 'n_estimators': 50}\n",
      "accuracy=0.998, best score=0.991, features={'max_features': 2, 'n_estimators': 100}\n",
      "accuracy=0.996, best score=0.989, features={'max_features': 2, 'n_estimators': 100}\n",
      "accuracy=0.993, best score=0.989, features={'max_features': 2, 'n_estimators': 100}\n",
      "accuracy=0.989, best score=0.990, features={'max_features': 2, 'n_estimators': 50}\n",
      "accuracy=0.998, best score=0.990, features={'max_features': 2, 'n_estimators': 50}\n",
      "accuracy=0.998, best score=0.991, features={'max_features': 2, 'n_estimators': 100}\n",
      "accuracy=0.996, best score=0.989, features={'max_features': 2, 'n_estimators': 100}\n",
      "accuracy=0.998, best score=0.991, features={'max_features': 2, 'n_estimators': 100}\n",
      "Accuracy: 0.996 (0.003)\n"
     ]
    }
   ],
   "source": [
    "bestModel = nested_CV(X_train,y_train)"
   ]
  },
  {
   "cell_type": "code",
   "execution_count": 24,
   "id": "e382368f",
   "metadata": {},
   "outputs": [],
   "source": [
    "X_train, y_train= df_train[['cosine_2','cosine_3','jaccard_2','jaccard_3']],df_train['isDuplicate']\n",
    "X_test, y_test= df_test[['cosine_2','cosine_3','jaccard_2','jaccard_3']],df_test['isDuplicate']"
   ]
  },
  {
   "cell_type": "code",
   "execution_count": 21,
   "id": "58bb9983",
   "metadata": {},
   "outputs": [],
   "source": [
    "model = RandomForestClassifier(n_estimators=100, \n",
    "                               bootstrap = True,\n",
    "                               max_features = 'sqrt')\n",
    "model.fit(X_train, y_train)\n",
    "predictions=model.predict(X_test)"
   ]
  },
  {
   "cell_type": "code",
   "execution_count": 22,
   "id": "0f3c61eb",
   "metadata": {},
   "outputs": [
    {
     "data": {
      "image/png": "[encoded data removed]",
      "text/plain": [
       "<Figure size 432x360 with 2 Axes>"
      ]
     },
     "metadata": {
      "needs_background": "light"
     },
     "output_type": "display_data"
    },
    {
     "name": "stdout",
     "output_type": "stream",
     "text": [
      "              precision    recall  f1-score   support\n",
      "\n",
      "         0.0       0.96      0.98      0.97      3506\n",
      "         1.0       0.94      0.91      0.92      1373\n",
      "\n",
      "    accuracy                           0.96      4879\n",
      "   macro avg       0.95      0.94      0.95      4879\n",
      "weighted avg       0.96      0.96      0.96      4879\n",
      "\n"
     ]
    }
   ],
   "source": [
    "makeCFwithStats(predictions, y_test)\n",
    "print(classification_report(y_test, predictions))"
   ]
  }
 ],
 "metadata": {
  "kernelspec": {
   "display_name": "Python 3 (ipykernel)",
   "language": "python",
   "name": "python3"
  },
  "language_info": {
   "codemirror_mode": {
    "name": "ipython",
    "version": 3
   },
   "file_extension": ".py",
   "mimetype": "text/x-python",
   "name": "python",
   "nbconvert_exporter": "python",
   "pygments_lexer": "ipython3",
   "version": "3.8.12"
  }
 },
 "nbformat": 4,
 "nbformat_minor": 5
}
