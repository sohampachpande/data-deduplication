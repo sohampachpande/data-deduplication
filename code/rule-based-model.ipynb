{
 "cells": [
  {
   "cell_type": "code",
   "execution_count": 1,
   "id": "ae6033fb",
   "metadata": {},
   "outputs": [],
   "source": [
    "import numpy as np\n",
    "import pandas as pd\n",
    "import matplotlib.pyplot as plt\n",
    "\n",
    "from sklearn.metrics import classification_report,confusion_matrix\n",
    "\n",
    "from dedup_lib.utils import *"
   ]
  },
  {
   "cell_type": "code",
   "execution_count": 2,
   "id": "d0d619c4",
   "metadata": {},
   "outputs": [],
   "source": [
    "def auc_plot(y_test_arr, y_pred_arr):\n",
    "    fpr, tpr, thresholds = roc_curve(y_test_arr, y_pred_arr)\n",
    "    plt.plot(fpr,tpr)\n",
    "    plt.show()"
   ]
  },
  {
   "cell_type": "code",
   "execution_count": 3,
   "id": "4b8502db",
   "metadata": {},
   "outputs": [],
   "source": [
    "data_path = \"../data-extraction/1AllDuplicates_5NoDuplicates.csv\""
   ]
  },
  {
   "cell_type": "markdown",
   "id": "ff0f83c2",
   "metadata": {},
   "source": [
    "## Call Model"
   ]
  },
  {
   "cell_type": "code",
   "execution_count": 4,
   "id": "2a4e143a",
   "metadata": {},
   "outputs": [],
   "source": [
    "from dedup_lib.models import RuleBasedModel\n",
    "from dedup_lib.utils import makeCFwithStats\n",
    "\n",
    "\n",
    "model = RuleBasedModel(data_path, threshold=3)\n",
    "\n",
    "y_truth = model.df_test['isDuplicate']\n",
    "y_pred = model.test()\n"
   ]
  },
  {
   "cell_type": "markdown",
   "id": "d445f42d",
   "metadata": {},
   "source": [
    "### Results"
   ]
  },
  {
   "cell_type": "code",
   "execution_count": 5,
   "id": "64348848",
   "metadata": {},
   "outputs": [
    {
     "data": {
      "image/png": "[encoded data removed]",
      "text/plain": [
       "<Figure size 432x360 with 2 Axes>"
      ]
     },
     "metadata": {
      "needs_background": "light"
     },
     "output_type": "display_data"
    },
    {
     "name": "stdout",
     "output_type": "stream",
     "text": [
      "              precision    recall  f1-score   support\n",
      "\n",
      "         0.0       0.91      0.98      0.94      2850\n",
      "         1.0       0.84      0.48      0.61       535\n",
      "\n",
      "    accuracy                           0.90      3385\n",
      "   macro avg       0.87      0.73      0.78      3385\n",
      "weighted avg       0.90      0.90      0.89      3385\n",
      "\n"
     ]
    }
   ],
   "source": [
    "makeCFwithStats(y_pred, y_truth)\n",
    "print(classification_report(y_truth, y_pred))"
   ]
  },
  {
   "cell_type": "code",
   "execution_count": null,
   "id": "7bbd5107",
   "metadata": {},
   "outputs": [],
   "source": []
  }
 ],
 "metadata": {
  "interpreter": {
   "hash": "e2db466ff52d66022f9f91c796fc91b92f6c42d56a30aade30d4e70cac3fc604"
  },
  "kernelspec": {
   "display_name": "Python 3 (ipykernel)",
   "language": "python",
   "name": "python3"
  },
  "language_info": {
   "codemirror_mode": {
    "name": "ipython",
    "version": 3
   },
   "file_extension": ".py",
   "mimetype": "text/x-python",
   "name": "python",
   "nbconvert_exporter": "python",
   "pygments_lexer": "ipython3",
   "version": "3.8.12"
  }
 },
 "nbformat": 4,
 "nbformat_minor": 5
}
