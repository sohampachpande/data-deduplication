{
 "cells": [
  {
   "cell_type": "code",
   "execution_count": 1,
   "id": "b03ccf6f",
   "metadata": {},
   "outputs": [],
   "source": [
    "import numpy as np \n",
    "import pandas as pd\n",
    "import random\n",
    "import os\n",
    "\n",
    "np.random.seed(45)"
   ]
  },
  {
   "cell_type": "code",
   "execution_count": 2,
   "id": "1c34cf00",
   "metadata": {},
   "outputs": [],
   "source": [
    "no_dup_path='../Our Labeled Data/No_Dup/no_d/'\n",
    "contains_dup_path='../Our Labeled Data/Contains_Dup/contains_d/'"
   ]
  },
  {
   "cell_type": "code",
   "execution_count": 3,
   "id": "ccf82afd",
   "metadata": {},
   "outputs": [],
   "source": [
    "no_dup_files = os.listdir(no_dup_path)\n",
    "contains_dup_files = os.listdir(contains_dup_path)"
   ]
  },
  {
   "cell_type": "code",
   "execution_count": null,
   "id": "0dc440b1",
   "metadata": {},
   "outputs": [],
   "source": []
  },
  {
   "cell_type": "markdown",
   "id": "654c884a",
   "metadata": {},
   "source": [
    "### 1. Approach to create labeled data with features - word1, word2, isDuplicate\n",
    "\n",
    "1. Randomly pick one file from the contains_duplicate dataset\n",
    "2. Randomly pick two rows with\n",
    "3. Populate the output data with words and isDuplicate value according to the entity number from the two pairs of rows\n",
    "\n",
    "\n",
    "In this approach we completely ignore the data statistics and context information"
   ]
  },
  {
   "cell_type": "code",
   "execution_count": 10,
   "id": "3b26ef17",
   "metadata": {},
   "outputs": [],
   "source": [
    "df1= pd.DataFrame({'w1':[], 'w2':[], 'isDuplicate':[]})\n",
    "for _ in range(100):\n",
    "    file=random.choice(contains_dup_files)\n",
    "    file_path=contains_dup_path+file\n",
    "    tempdf=pd.read_csv(file_path)\n",
    "    for _ in range(10):\n",
    "        t=tempdf.sample(n=2).reset_index()\n",
    "        w1,e1=t.loc[0]['Category_Set'], t.loc[0]['Entity_Number']\n",
    "        w2,e2=t.loc[1]['Category_Set'], t.loc[1]['Entity_Number']\n",
    "        isDup=(e1==e2)\n",
    "        df1= df1.append({'w1':w1, 'w2':w2, 'isDuplicate':isDup}, ignore_index=True)"
   ]
  },
  {
   "cell_type": "code",
   "execution_count": 11,
   "id": "937d48f4",
   "metadata": {},
   "outputs": [
    {
     "data": {
      "text/plain": [
       "((928, 3), (72, 3))"
      ]
     },
     "execution_count": 11,
     "metadata": {},
     "output_type": "execute_result"
    }
   ],
   "source": [
    "df1[df1['isDuplicate']==0].shape, df1[df1['isDuplicate']==1].shape"
   ]
  },
  {
   "cell_type": "markdown",
   "id": "d4c1dab7",
   "metadata": {},
   "source": [
    "### 2. Approach to create labeled data with features - word1, word2, isDuplicate\n",
    "\n",
    "1. Randomly pick one file from the contains_duplicate dataset\n",
    "2. Randomly pick two rows with a. same entitity number, b. different entitity number\n",
    "3. Populate the output data with words and isDuplicate value according to the entity number from the two pairs of rows\n",
    "\n",
    "\n",
    "In this approach we completely ignore the data statistics and context information"
   ]
  },
  {
   "cell_type": "code",
   "execution_count": 96,
   "id": "845c2e6b",
   "metadata": {},
   "outputs": [],
   "source": [
    "df2 = pd.DataFrame({'w1':[], 'w2':[], 'isDuplicate':[]})\n",
    "\n",
    "for _ in range(1000):\n",
    "    file=random.choice(contains_dup_files)\n",
    "    file_path=contains_dup_path+file\n",
    "    tempdf=pd.read_csv(file_path)\n",
    "    \n",
    "    perEntityCatCount=tempdf['Entity_Number'].value_counts()\n",
    "\n",
    "    for _ in range(3):\n",
    "        tempdf['entityCount']=tempdf['Entity_Number'].apply(lambda x: perEntityCatCount[x])\n",
    "        \n",
    "        try:\n",
    "            t=tempdf[tempdf['entityCount']>1].sample(n=1).reset_index()\n",
    "            e=t.loc[0]['Entity_Number']\n",
    "            t=tempdf[tempdf['Entity_Number']==e].sample(n=2).reset_index()\n",
    "            w1,e1=t.loc[0]['Category_Set'], t.loc[0]['Entity_Number']\n",
    "            w2,e2=t.loc[1]['Category_Set'], t.loc[1]['Entity_Number']\n",
    "            isDup=(e1==e2)\n",
    "            df2 = df2.append({'w1':w1, 'w2':w2, 'isDuplicate':isDup}, ignore_index=True)\n",
    "        except ValueError:\n",
    "            pass\n",
    "\n",
    "        try:\n",
    "            t=tempdf[tempdf['entityCount']==1].sample(n=2).reset_index()\n",
    "            w1,e1=t.loc[0]['Category_Set'], t.loc[0]['Entity_Number']\n",
    "            w2,e2=t.loc[1]['Category_Set'], t.loc[1]['Entity_Number']\n",
    "            isDup=(e1==e2)\n",
    "            df2 = df2.append({'w1':w1, 'w2':w2, 'isDuplicate':isDup}, ignore_index=True)\n",
    "\n",
    "        except ValueError:\n",
    "            pass"
   ]
  },
  {
   "cell_type": "code",
   "execution_count": 97,
   "id": "7924b5c9",
   "metadata": {},
   "outputs": [
    {
     "data": {
      "text/plain": [
       "1.0    3000\n",
       "0.0    2271\n",
       "Name: isDuplicate, dtype: int64"
      ]
     },
     "execution_count": 97,
     "metadata": {},
     "output_type": "execute_result"
    }
   ],
   "source": [
    "df2['isDuplicate'].value_counts()"
   ]
  },
  {
   "cell_type": "code",
   "execution_count": 98,
   "id": "f9ff9d70",
   "metadata": {},
   "outputs": [
    {
     "data": {
      "text/html": [
       "<div>\n",
       "<style scoped>\n",
       "    .dataframe tbody tr th:only-of-type {\n",
       "        vertical-align: middle;\n",
       "    }\n",
       "\n",
       "    .dataframe tbody tr th {\n",
       "        vertical-align: top;\n",
       "    }\n",
       "\n",
       "    .dataframe thead th {\n",
       "        text-align: right;\n",
       "    }\n",
       "</style>\n",
       "<table border=\"1\" class=\"dataframe\">\n",
       "  <thead>\n",
       "    <tr style=\"text-align: right;\">\n",
       "      <th></th>\n",
       "      <th>w1</th>\n",
       "      <th>w2</th>\n",
       "      <th>isDuplicate</th>\n",
       "    </tr>\n",
       "  </thead>\n",
       "  <tbody>\n",
       "    <tr>\n",
       "      <th>0</th>\n",
       "      <td>orange</td>\n",
       "      <td>orange</td>\n",
       "      <td>1.0</td>\n",
       "    </tr>\n",
       "    <tr>\n",
       "      <th>1</th>\n",
       "      <td>pink</td>\n",
       "      <td>tan</td>\n",
       "      <td>0.0</td>\n",
       "    </tr>\n",
       "    <tr>\n",
       "      <th>2</th>\n",
       "      <td>orange</td>\n",
       "      <td>orange</td>\n",
       "      <td>1.0</td>\n",
       "    </tr>\n",
       "    <tr>\n",
       "      <th>3</th>\n",
       "      <td>tan</td>\n",
       "      <td>apricot</td>\n",
       "      <td>0.0</td>\n",
       "    </tr>\n",
       "    <tr>\n",
       "      <th>4</th>\n",
       "      <td>silver</td>\n",
       "      <td>silver</td>\n",
       "      <td>1.0</td>\n",
       "    </tr>\n",
       "    <tr>\n",
       "      <th>5</th>\n",
       "      <td>sable</td>\n",
       "      <td>pink</td>\n",
       "      <td>0.0</td>\n",
       "    </tr>\n",
       "    <tr>\n",
       "      <th>6</th>\n",
       "      <td>Engineering and Engineering Trades Programs</td>\n",
       "      <td>Engineering and Engineering trades Programs</td>\n",
       "      <td>1.0</td>\n",
       "    </tr>\n",
       "    <tr>\n",
       "      <th>7</th>\n",
       "      <td>Other Programs in Education at the Third Level...</td>\n",
       "      <td>Second Year Post Secondary</td>\n",
       "      <td>0.0</td>\n",
       "    </tr>\n",
       "    <tr>\n",
       "      <th>8</th>\n",
       "      <td>Engineering and Engineering Trades Programs</td>\n",
       "      <td>Engineering and Engineering trades Programs</td>\n",
       "      <td>1.0</td>\n",
       "    </tr>\n",
       "    <tr>\n",
       "      <th>9</th>\n",
       "      <td>First Year High School</td>\n",
       "      <td>Business and Administration Programs</td>\n",
       "      <td>0.0</td>\n",
       "    </tr>\n",
       "    <tr>\n",
       "      <th>10</th>\n",
       "      <td>Engineering and Engineering trades Programs</td>\n",
       "      <td>Engineering and Engineering Trades Programs</td>\n",
       "      <td>1.0</td>\n",
       "    </tr>\n",
       "    <tr>\n",
       "      <th>11</th>\n",
       "      <td>Social and Behavioral Science Programs</td>\n",
       "      <td>Grade 4</td>\n",
       "      <td>0.0</td>\n",
       "    </tr>\n",
       "    <tr>\n",
       "      <th>12</th>\n",
       "      <td>DURHAM LEAD</td>\n",
       "      <td>Durham Lead</td>\n",
       "      <td>1.0</td>\n",
       "    </tr>\n",
       "    <tr>\n",
       "      <th>13</th>\n",
       "      <td>Glen Park</td>\n",
       "      <td>Mount Rowan</td>\n",
       "      <td>0.0</td>\n",
       "    </tr>\n",
       "    <tr>\n",
       "      <th>14</th>\n",
       "      <td>Durham Lead</td>\n",
       "      <td>DURHAM LEAD</td>\n",
       "      <td>1.0</td>\n",
       "    </tr>\n",
       "  </tbody>\n",
       "</table>\n",
       "</div>"
      ],
      "text/plain": [
       "                                                   w1  \\\n",
       "0                                              orange   \n",
       "1                                                pink   \n",
       "2                                              orange   \n",
       "3                                                 tan   \n",
       "4                                             silver    \n",
       "5                                               sable   \n",
       "6         Engineering and Engineering Trades Programs   \n",
       "7   Other Programs in Education at the Third Level...   \n",
       "8         Engineering and Engineering Trades Programs   \n",
       "9                              First Year High School   \n",
       "10        Engineering and Engineering trades Programs   \n",
       "11             Social and Behavioral Science Programs   \n",
       "12                                        DURHAM LEAD   \n",
       "13                                          Glen Park   \n",
       "14                                        Durham Lead   \n",
       "\n",
       "                                             w2  isDuplicate  \n",
       "0                                       orange           1.0  \n",
       "1                                           tan          0.0  \n",
       "2                                       orange           1.0  \n",
       "3                                       apricot          0.0  \n",
       "4                                        silver          1.0  \n",
       "5                                          pink          0.0  \n",
       "6   Engineering and Engineering trades Programs          1.0  \n",
       "7                    Second Year Post Secondary          0.0  \n",
       "8   Engineering and Engineering trades Programs          1.0  \n",
       "9          Business and Administration Programs          0.0  \n",
       "10  Engineering and Engineering Trades Programs          1.0  \n",
       "11                                      Grade 4          0.0  \n",
       "12                                  Durham Lead          1.0  \n",
       "13                                  Mount Rowan          0.0  \n",
       "14                                  DURHAM LEAD          1.0  "
      ]
     },
     "execution_count": 98,
     "metadata": {},
     "output_type": "execute_result"
    }
   ],
   "source": [
    "df2.head(15)"
   ]
  },
  {
   "cell_type": "code",
   "execution_count": null,
   "id": "5d085039",
   "metadata": {},
   "outputs": [],
   "source": []
  }
 ],
 "metadata": {
  "kernelspec": {
   "display_name": "Python 3 (ipykernel)",
   "language": "python",
   "name": "python3"
  },
  "language_info": {
   "codemirror_mode": {
    "name": "ipython",
    "version": 3
   },
   "file_extension": ".py",
   "mimetype": "text/x-python",
   "name": "python",
   "nbconvert_exporter": "python",
   "pygments_lexer": "ipython3",
   "version": "3.9.1"
  }
 },
 "nbformat": 4,
 "nbformat_minor": 5
}
