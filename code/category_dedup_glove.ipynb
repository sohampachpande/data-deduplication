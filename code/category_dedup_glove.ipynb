{
  "cells": [
    {
      "cell_type": "code",
      "execution_count": 1,
      "metadata": {
        "id": "JupHAmJWmtXw"
      },
      "outputs": [],
      "source": [
        "import numpy as np\n",
        "import pandas as pd\n",
        "import os \n",
        "import matplotlib.pyplot as plt\n",
        "\n",
        "import torch\n",
        "import torch.nn as nn\n",
        "import torch.nn.functional as F\n",
        "\n",
        "from sklearn.utils import shuffle\n",
        "from torch.utils.data import Dataset, DataLoader\n",
        "from torchvision import transforms\n",
        "\n",
        "import torch.optim as optim"
      ]
    },
    {
      "cell_type": "code",
      "execution_count": 2,
      "metadata": {
        "colab": {
          "base_uri": "https://localhost:8080/"
        },
        "id": "Pi9jMMQUrUn4",
        "outputId": "4e4825a9-33f9-4886-da4c-2bf74753f8df"
      },
      "outputs": [
        {
          "name": "stdout",
          "output_type": "stream",
          "text": [
            "Using cpu device\n"
          ]
        }
      ],
      "source": [
        "device = 'cuda' if torch.cuda.is_available() else 'cpu'\n",
        "print('Using {} device'.format(device))"
      ]
    },
    {
      "cell_type": "code",
      "execution_count": 3,
      "metadata": {
        "id": "DdU1AOgvx_fs"
      },
      "outputs": [],
      "source": [
        "GLOVE_DIR=\"../pre-trained-embdedding-models/glove.6B/\"\n",
        "dimension=100\n",
        "embeddings_index = {}\n",
        "f = open(os.path.join(GLOVE_DIR, 'glove.6B.100d.txt'), encoding=\"utf8\")\n",
        "for line in f:\n",
        "    values = line.split()\n",
        "    word = values[0]\n",
        "    coefs = np.asarray(values[1:], dtype='float32')\n",
        "    embeddings_index[word] = coefs\n",
        "f.close()"
      ]
    },
    {
      "cell_type": "markdown",
      "metadata": {
        "id": "k3qHzuLxzrR1"
      },
      "source": [
        "## PyTorch Dataset and Model"
      ]
    },
    {
      "cell_type": "code",
      "execution_count": 4,
      "metadata": {
        "id": "amBIDrZlrlXe"
      },
      "outputs": [],
      "source": [
        "class dedupDataset(Dataset):\n",
        "    \"\"\"User defined class to build a dataset using Pytorch class Dataset.\"\"\"\n",
        "    \n",
        "    def __init__(self, data, encoding, transform = None):\n",
        "        \"\"\"Method to initilaize variables.\"\"\" \n",
        "        self.data = data\n",
        "        self.encoding = encoding\n",
        "\n",
        "        self.transform=transform\n",
        "\n",
        "    def __getitem__(self, index):\n",
        "        w1, w2, isDuplicate = self.data.loc[index]\n",
        "        \n",
        "        e1 = self.encoding[w1.lower().strip()]\n",
        "        e2 = self.encoding[w2.lower().strip()]\n",
        "\n",
        "        E = torch.cat((torch.tensor(e1),torch.tensor(e2)))        \n",
        "\n",
        "        if self.transform is not None:\n",
        "            E = self.transform(E)\n",
        "\n",
        "        return E, torch.tensor(isDuplicate).float()\n",
        "\n",
        "    def __len__(self):\n",
        "        return len(self.data)"
      ]
    },
    {
      "cell_type": "code",
      "execution_count": 5,
      "metadata": {
        "id": "anCEZX0moM2p"
      },
      "outputs": [],
      "source": [
        "class NN(nn.Module):\n",
        "    def __init__(self, d):\n",
        "        super().__init__()\n",
        "        \n",
        "        self.fc1 = nn.Linear(d*2, 100)\n",
        "        self.fc2 = nn.Linear(100, 64)\n",
        "        self.fc3 = nn.Linear(64, 1)\n",
        "\n",
        "    def forward(self, x):\n",
        "        x = F.relu(self.fc1(x))\n",
        "        x = F.relu(self.fc2(x))\n",
        "        x = F.sigmoid(self.fc3(x))\n",
        "        return x"
      ]
    },
    {
      "cell_type": "code",
      "execution_count": null,
      "metadata": {
        "id": "GxgWUrI4myUK"
      },
      "outputs": [],
      "source": []
    },
    {
      "cell_type": "markdown",
      "metadata": {
        "id": "LEq0I_WtwVYq"
      },
      "source": [
        "## Data Preparation\n",
        "### Remove all data with entries which do not have embeddings\n",
        "\n",
        " Next work -  doc2vec/train word2vec"
      ]
    },
    {
      "cell_type": "code",
      "execution_count": 6,
      "metadata": {
        "id": "bZLwOZCKyxwS"
      },
      "outputs": [],
      "source": [
        "data_path = \"../data/dedup-data-6187_37728.csv\"\n",
        "\n",
        "df = pd.read_csv(data_path, usecols=['w1', 'w2', 'isDuplicate']).sample(frac=1).reset_index(drop=True)"
      ]
    },
    {
      "cell_type": "code",
      "execution_count": 7,
      "metadata": {
        "id": "MCxHsRfxwH8X"
      },
      "outputs": [],
      "source": [
        "df['w1_has_embedding']=df['w1'].apply(lambda x:x.lower().strip() in embeddings_index)\n",
        "df['w2_has_embedding']=df['w2'].apply(lambda x:x.lower().strip() in embeddings_index)"
      ]
    },
    {
      "cell_type": "code",
      "execution_count": 8,
      "metadata": {
        "id": "tRxGRnXLwZ-d"
      },
      "outputs": [],
      "source": [
        "df=df[df['w1_has_embedding']==True]\n",
        "df=df[df['w2_has_embedding']==True]\n",
        "\n",
        "df = df.drop(['w1_has_embedding', 'w2_has_embedding'], axis=1)\n",
        "df = df.reset_index(drop=True)"
      ]
    },
    {
      "cell_type": "code",
      "execution_count": 9,
      "metadata": {
        "id": "DBaNshAtwJk0"
      },
      "outputs": [],
      "source": [
        "df_train=df[:int(0.7*len(df))].reset_index(drop=True)\n",
        "df_test =df[int(0.7*len(df)):].reset_index(drop=True)"
      ]
    },
    {
      "cell_type": "code",
      "execution_count": 10,
      "metadata": {
        "colab": {
          "base_uri": "https://localhost:8080/"
        },
        "id": "bocGADFRnYRp",
        "outputId": "d55d3c98-7852-4dfa-fdee-f2c43189b9c5"
      },
      "outputs": [
        {
          "data": {
            "text/plain": [
              "0.0    6834\n",
              "1.0    1067\n",
              "Name: isDuplicate, dtype: int64"
            ]
          },
          "execution_count": 10,
          "metadata": {},
          "output_type": "execute_result"
        }
      ],
      "source": [
        "df_train['isDuplicate'].value_counts()"
      ]
    },
    {
      "cell_type": "markdown",
      "metadata": {
        "id": "EV431VJvzwll"
      },
      "source": [
        "# Train pytorch NN"
      ]
    },
    {
      "cell_type": "code",
      "execution_count": 11,
      "metadata": {
        "id": "Q8UbG3-mzys7"
      },
      "outputs": [],
      "source": [
        "model = NN(d=dimension).to(device)"
      ]
    },
    {
      "cell_type": "code",
      "execution_count": 12,
      "metadata": {
        "id": "ViXtxAfO1ruy"
      },
      "outputs": [],
      "source": [
        "train_set, test_set = dedupDataset(df_train, embeddings_index), dedupDataset(df_test, embeddings_index)\n",
        "train_loader = DataLoader(train_set, batch_size=100)\n",
        "test_loader = DataLoader(test_set, batch_size=len(df_test))\n"
      ]
    },
    {
      "cell_type": "code",
      "execution_count": 13,
      "metadata": {
        "id": "sAkUA8nEz2Z7"
      },
      "outputs": [],
      "source": [
        "# create your optimizer\n",
        "optimizer = optim.Adam(model.parameters(), lr=0.0001)\n",
        "loss_fn = nn.BCELoss()"
      ]
    },
    {
      "cell_type": "code",
      "execution_count": 14,
      "metadata": {
        "id": "j2s4NM0Z5Qlp"
      },
      "outputs": [],
      "source": [
        "def binary_acc(y_pred, y_ground):\n",
        "\n",
        "    # print(y_pred, y_ground)  \n",
        "    y_pred_tag = torch.round(y_pred)\n",
        "    # print(y_pred_tag, y_ground)  \n",
        "\n",
        "\n",
        "    correct_results_sum = (y_pred_tag == y_ground).sum().float()\n",
        "    # print(correct_results_sum)\n",
        "    acc = correct_results_sum/y_ground.shape[0]\n",
        "    acc = torch.round(acc * 100)\n",
        "    \n",
        "    return acc"
      ]
    },
    {
      "cell_type": "code",
      "execution_count": 15,
      "metadata": {
        "colab": {
          "base_uri": "https://localhost:8080/"
        },
        "id": "OOZuCrV81U6i",
        "outputId": "44a2afda-50e1-4219-f87b-026912802875"
      },
      "outputs": [
        {
          "name": "stderr",
          "output_type": "stream",
          "text": [
            "/home/sohampachpande/miniconda3/envs/torch/lib/python3.8/site-packages/torch/nn/functional.py:1709: UserWarning: nn.functional.sigmoid is deprecated. Use torch.sigmoid instead.\n",
            "  warnings.warn(\"nn.functional.sigmoid is deprecated. Use torch.sigmoid instead.\")\n"
          ]
        },
        {
          "name": "stdout",
          "output_type": "stream",
          "text": [
            "epoch 0\tloss : 0.5500394105911255\t accuracy : 100.0\n",
            "epoch 5\tloss : 0.02996617928147316\t accuracy : 100.0\n",
            "epoch 10\tloss : 0.007554203271865845\t accuracy : 100.0\n",
            "epoch 15\tloss : 0.002845935756340623\t accuracy : 100.0\n",
            "epoch 20\tloss : 0.0011203004978597164\t accuracy : 100.0\n",
            "epoch 25\tloss : 0.0004122510727029294\t accuracy : 100.0\n",
            "epoch 30\tloss : 0.00013626550207845867\t accuracy : 100.0\n",
            "epoch 35\tloss : 4.339312363299541e-05\t accuracy : 100.0\n",
            "epoch 40\tloss : 1.3828373084834311e-05\t accuracy : 100.0\n",
            "epoch 45\tloss : 4.5895681068941485e-06\t accuracy : 100.0\n",
            "epoch 50\tloss : 1.4901172562531428e-06\t accuracy : 100.0\n",
            "epoch 55\tloss : 4.768372718899627e-07\t accuracy : 100.0\n",
            "epoch 60\tloss : 1.1920928955078125e-07\t accuracy : 100.0\n",
            "epoch 65\tloss : 5.960464477539063e-08\t accuracy : 100.0\n",
            "epoch 70\tloss : 0.0\t accuracy : 100.0\n"
          ]
        }
      ],
      "source": [
        "epochs=75\n",
        "#forward loop\n",
        "losses = []\n",
        "accur = []\n",
        "for i in range(epochs):\n",
        "  for j,(x_train,y_train) in enumerate(train_loader):\n",
        "    x_train,y_train = x_train.to(device), y_train.to(device)\n",
        "    #calculate output\n",
        "    output = model(x_train)\n",
        " \n",
        "    #calculate loss\n",
        "    loss = loss_fn(output,y_train.reshape(-1,1))\n",
        "    \n",
        "    acc = binary_acc(output, y_train.reshape(-1,1))\n",
        "    #backprop\n",
        "    optimizer.zero_grad()\n",
        "    loss.backward()\n",
        "    optimizer.step()\n",
        "\n",
        "  if i%5 == 0:\n",
        "    losses.append(loss)\n",
        "    accur.append(acc)\n",
        "    print(\"epoch {}\\tloss : {}\\t accuracy : {}\".format(i,loss,acc))"
      ]
    },
    {
      "cell_type": "code",
      "execution_count": 26,
      "metadata": {
        "colab": {
          "base_uri": "https://localhost:8080/"
        },
        "id": "yt9yafQb24e5",
        "outputId": "d20c412b-a821-469d-b7d1-7c674d7cad0d"
      },
      "outputs": [
        {
          "name": "stderr",
          "output_type": "stream",
          "text": [
            "/home/sohampachpande/miniconda3/envs/torch/lib/python3.8/site-packages/torch/nn/functional.py:1709: UserWarning: nn.functional.sigmoid is deprecated. Use torch.sigmoid instead.\n",
            "  warnings.warn(\"nn.functional.sigmoid is deprecated. Use torch.sigmoid instead.\")\n"
          ]
        }
      ],
      "source": [
        "y_truth_list = []\n",
        "y_pred_list = []\n",
        "model.eval()\n",
        "with torch.no_grad():\n",
        "  for j,(x_test,y_test) in enumerate(test_loader):\n",
        "      x_test,y_test = x_test.to(device), y_test.to(device)\n",
        "      #calculate output\n",
        "      output = model(x_test)\n",
        "  \n",
        "      acc = binary_acc(output, y_test.reshape(-1,1))\n",
        "\n"
      ]
    },
    {
      "cell_type": "code",
      "execution_count": 27,
      "metadata": {
        "colab": {
          "base_uri": "https://localhost:8080/"
        },
        "id": "qHBSUEQr7Tmg",
        "outputId": "1e107b44-6da9-4c7b-a44e-cfe64437bf2a"
      },
      "outputs": [
        {
          "data": {
            "text/plain": [
              "tensor(98.)"
            ]
          },
          "execution_count": 27,
          "metadata": {},
          "output_type": "execute_result"
        }
      ],
      "source": [
        "acc"
      ]
    },
    {
      "cell_type": "code",
      "execution_count": 28,
      "metadata": {
        "id": "RedxBQCu84c-"
      },
      "outputs": [],
      "source": [
        "y_pred = torch.round(output.reshape(-1))"
      ]
    },
    {
      "cell_type": "code",
      "execution_count": 29,
      "metadata": {
        "id": "9KTaCkcx_Z9d"
      },
      "outputs": [],
      "source": [
        "y_pred_arr = np.asarray(y_pred.cpu())\n",
        "y_test_arr = np.asarray(y_test.cpu())"
      ]
    },
    {
      "cell_type": "code",
      "execution_count": 30,
      "metadata": {
        "id": "gwW7CFzf_qDg"
      },
      "outputs": [],
      "source": [
        "from sklearn.metrics import roc_curve, classification_report"
      ]
    },
    {
      "cell_type": "code",
      "execution_count": 31,
      "metadata": {
        "colab": {
          "base_uri": "https://localhost:8080/"
        },
        "id": "TdSd3bwi_80e",
        "outputId": "3daeb592-f0aa-4ebe-f620-2959c805b972"
      },
      "outputs": [
        {
          "name": "stdout",
          "output_type": "stream",
          "text": [
            "              precision    recall  f1-score   support\n",
            "\n",
            "         0.0       0.99      0.99      0.99      2941\n",
            "         1.0       0.94      0.93      0.94       446\n",
            "\n",
            "    accuracy                           0.98      3387\n",
            "   macro avg       0.97      0.96      0.96      3387\n",
            "weighted avg       0.98      0.98      0.98      3387\n",
            "\n"
          ]
        }
      ],
      "source": [
        "print(classification_report(y_test_arr, y_pred_arr))"
      ]
    },
    {
      "cell_type": "code",
      "execution_count": 32,
      "metadata": {
        "colab": {
          "base_uri": "https://localhost:8080/",
          "height": 265
        },
        "id": "MlJ0NZv8ACaL",
        "outputId": "2cb320b8-5db5-45a8-ae85-293fd72194b0"
      },
      "outputs": [
        {
          "data": {
            "image/png": "[encoded data removed]",
            "text/plain": [
              "<Figure size 432x288 with 1 Axes>"
            ]
          },
          "metadata": {
            "needs_background": "light"
          },
          "output_type": "display_data"
        }
      ],
      "source": [
        "fpr, tpr, thresholds = roc_curve(y_test_arr, y_pred_arr)\n",
        "plt.plot(fpr,tpr)\n",
        "plt.show()"
      ]
    },
    {
      "cell_type": "code",
      "execution_count": 33,
      "metadata": {
        "colab": {
          "base_uri": "https://localhost:8080/"
        },
        "id": "7ZdXzjkzATBL",
        "outputId": "f44c7395-783f-4f52-b293-d2768198b548"
      },
      "outputs": [
        {
          "name": "stdout",
          "output_type": "stream",
          "text": [
            "NN(\n",
            "  (fc1): Linear(in_features=200, out_features=100, bias=True)\n",
            "  (fc2): Linear(in_features=100, out_features=64, bias=True)\n",
            "  (fc3): Linear(in_features=64, out_features=1, bias=True)\n",
            ")\n"
          ]
        }
      ],
      "source": [
        "print(model)"
      ]
    },
    {
      "cell_type": "code",
      "execution_count": 34,
      "metadata": {
        "id": "64NswBEuLFk_"
      },
      "outputs": [],
      "source": [
        "import seaborn as sn\n",
        "import pandas as pd\n",
        "import matplotlib.pyplot as plt\n",
        "from sklearn.metrics import confusion_matrix\n",
        "def makeCFwithStats(y_pred, y_truth):\n",
        "    cf = confusion_matrix(y_truth, y_pred)\n",
        "    accuracy  = np.trace(cf) / float(np.sum(cf))\n",
        "    precision = cf[1,1] / sum(cf[:,1])\n",
        "    recall    = cf[1,1] / sum(cf[1,:])\n",
        "    f1_score  = 2*precision*recall / (precision + recall)\n",
        "    stats_text = \"\\n\\nAccuracy={:0.3f}\\nPrecision={:0.3f}\\nRecall={:0.3f}\\nF1 Score={:0.3f}\".format(accuracy,precision,recall,f1_score)\n",
        "\n",
        "    df_cm = pd.DataFrame(cf, index = [\"Not Duplicate\", \"Duplicate\"],\n",
        "                    columns = [\"Not Duplicate\", \"Duplicate\"])\n",
        "    plt.figure(figsize = (6,5))\n",
        "    sn.heatmap(df_cm/np.sum(cf), annot=True, fmt='.2%')\n",
        "    plt.ylabel('True label', fontsize=14)\n",
        "    plt.xlabel('Predicted label' + stats_text, fontsize=14)\n",
        "    plt.show()"
      ]
    },
    {
      "cell_type": "code",
      "execution_count": 35,
      "metadata": {},
      "outputs": [
        {
          "data": {
            "image/png": "[encoded data removed]",
            "text/plain": [
              "<Figure size 432x360 with 2 Axes>"
            ]
          },
          "metadata": {
            "needs_background": "light"
          },
          "output_type": "display_data"
        }
      ],
      "source": [
        "makeCFwithStats(y_test_arr, y_pred_arr)"
      ]
    },
    {
      "cell_type": "code",
      "execution_count": null,
      "metadata": {},
      "outputs": [],
      "source": []
    }
  ],
  "metadata": {
    "accelerator": "GPU",
    "colab": {
      "collapsed_sections": [],
      "name": "category-dedup-glove.ipynb",
      "provenance": []
    },
    "interpreter": {
      "hash": "e2db466ff52d66022f9f91c796fc91b92f6c42d56a30aade30d4e70cac3fc604"
    },
    "kernelspec": {
      "display_name": "Python 3.8.12 64-bit ('torch': conda)",
      "name": "python3"
    },
    "language_info": {
      "codemirror_mode": {
        "name": "ipython",
        "version": 3
      },
      "file_extension": ".py",
      "mimetype": "text/x-python",
      "name": "python",
      "nbconvert_exporter": "python",
      "pygments_lexer": "ipython3",
      "version": "3.8.12"
    }
  },
  "nbformat": 4,
  "nbformat_minor": 0
}
