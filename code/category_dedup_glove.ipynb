{
  "nbformat": 4,
  "nbformat_minor": 0,
  "metadata": {
    "colab": {
      "name": "category-dedup-glove.ipynb",
      "provenance": [],
      "collapsed_sections": []
    },
    "kernelspec": {
      "display_name": "Python 3",
      "name": "python3"
    },
    "language_info": {
      "name": "python"
    },
    "accelerator": "GPU"
  },
  "cells": [
    {
      "cell_type": "code",
      "metadata": {
        "id": "JupHAmJWmtXw"
      },
      "source": [
        "import numpy as np\n",
        "import pandas as pd\n",
        "import os \n",
        "import matplotlib.pyplot as plt\n",
        "\n",
        "import torch\n",
        "import torch.nn as nn\n",
        "import torch.nn.functional as F\n",
        "\n",
        "from sklearn.utils import shuffle\n",
        "from torch.utils.data import Dataset, DataLoader\n",
        "from torchvision import transforms\n",
        "\n",
        "import torch.optim as optim"
      ],
      "execution_count": null,
      "outputs": []
    },
    {
      "cell_type": "code",
      "metadata": {
        "colab": {
          "base_uri": "https://localhost:8080/"
        },
        "id": "Pi9jMMQUrUn4",
        "outputId": "4e4825a9-33f9-4886-da4c-2bf74753f8df"
      },
      "source": [
        "device = 'cuda' if torch.cuda.is_available() else 'cpu'\n",
        "print('Using {} device'.format(device))"
      ],
      "execution_count": null,
      "outputs": [
        {
          "output_type": "stream",
          "name": "stdout",
          "text": [
            "Using cuda device\n"
          ]
        }
      ]
    },
    {
      "cell_type": "code",
      "metadata": {
        "id": "DdU1AOgvx_fs"
      },
      "source": [
        "GLOVE_DIR=\"./\" #\"../pre-trained-embdedding-models/glove.6B/\"\n",
        "dimension=100\n",
        "embeddings_index = {}\n",
        "f = open(os.path.join(GLOVE_DIR, 'glove.6B.100d.txt'), encoding=\"utf8\")\n",
        "for line in f:\n",
        "    values = line.split()\n",
        "    word = values[0]\n",
        "    coefs = np.asarray(values[1:], dtype='float32')\n",
        "    embeddings_index[word] = coefs\n",
        "f.close()"
      ],
      "execution_count": null,
      "outputs": []
    },
    {
      "cell_type": "markdown",
      "metadata": {
        "id": "k3qHzuLxzrR1"
      },
      "source": [
        "## PyTorch Dataset and Model"
      ]
    },
    {
      "cell_type": "code",
      "metadata": {
        "id": "amBIDrZlrlXe"
      },
      "source": [
        "class dedupDataset(Dataset):\n",
        "    \"\"\"User defined class to build a dataset using Pytorch class Dataset.\"\"\"\n",
        "    \n",
        "    def __init__(self, data, encoding, transform = None):\n",
        "        \"\"\"Method to initilaize variables.\"\"\" \n",
        "        self.data = data\n",
        "        self.encoding = encoding\n",
        "\n",
        "        self.transform=transform\n",
        "\n",
        "    def __getitem__(self, index):\n",
        "        w1, w2, isDuplicate = self.data.loc[index]\n",
        "        \n",
        "        e1 = self.encoding[w1.lower().strip()]\n",
        "        e2 = self.encoding[w2.lower().strip()]\n",
        "\n",
        "        E = torch.cat((torch.tensor(e1),torch.tensor(e2)))        \n",
        "\n",
        "        if self.transform is not None:\n",
        "            E = self.transform(E)\n",
        "\n",
        "        return E, torch.tensor(isDuplicate).float()\n",
        "\n",
        "    def __len__(self):\n",
        "        return len(self.data)"
      ],
      "execution_count": null,
      "outputs": []
    },
    {
      "cell_type": "code",
      "metadata": {
        "id": "anCEZX0moM2p"
      },
      "source": [
        "class NN(nn.Module):\n",
        "    def __init__(self, d):\n",
        "        super().__init__()\n",
        "        \n",
        "        self.fc1 = nn.Linear(d*2, 100)\n",
        "        self.fc2 = nn.Linear(100, 64)\n",
        "        self.fc3 = nn.Linear(64, 1)\n",
        "\n",
        "    def forward(self, x):\n",
        "        x = F.relu(self.fc1(x))\n",
        "        x = F.relu(self.fc2(x))\n",
        "        x = F.sigmoid(self.fc3(x))\n",
        "        return x"
      ],
      "execution_count": null,
      "outputs": []
    },
    {
      "cell_type": "code",
      "metadata": {
        "id": "GxgWUrI4myUK"
      },
      "source": [
        ""
      ],
      "execution_count": null,
      "outputs": []
    },
    {
      "cell_type": "markdown",
      "metadata": {
        "id": "LEq0I_WtwVYq"
      },
      "source": [
        "## Data Preparation\n",
        "### Remove all data with entries which do not have embeddings\n",
        "\n",
        " Next work -  doc2vec/train word2vec"
      ]
    },
    {
      "cell_type": "code",
      "metadata": {
        "id": "bZLwOZCKyxwS"
      },
      "source": [
        "data_path = \"dedup-data-6187_37728.csv\"\n",
        "\n",
        "df = pd.read_csv(data_path, usecols=['w1', 'w2', 'isDuplicate']).sample(frac=1).reset_index(drop=True)"
      ],
      "execution_count": null,
      "outputs": []
    },
    {
      "cell_type": "code",
      "metadata": {
        "id": "MCxHsRfxwH8X"
      },
      "source": [
        "df['w1_has_embedding']=df['w1'].apply(lambda x:x.lower().strip() in embeddings_index)\n",
        "df['w2_has_embedding']=df['w2'].apply(lambda x:x.lower().strip() in embeddings_index)"
      ],
      "execution_count": null,
      "outputs": []
    },
    {
      "cell_type": "code",
      "metadata": {
        "id": "tRxGRnXLwZ-d"
      },
      "source": [
        "df=df[df['w1_has_embedding']==True]\n",
        "df=df[df['w2_has_embedding']==True]\n",
        "\n",
        "df = df.drop(['w1_has_embedding', 'w2_has_embedding'], axis=1)\n",
        "df = df.reset_index(drop=True)"
      ],
      "execution_count": null,
      "outputs": []
    },
    {
      "cell_type": "code",
      "metadata": {
        "id": "DBaNshAtwJk0"
      },
      "source": [
        "df_train=df[:int(0.7*len(df))].reset_index(drop=True)\n",
        "df_test =df[int(0.7*len(df)):].reset_index(drop=True)"
      ],
      "execution_count": null,
      "outputs": []
    },
    {
      "cell_type": "code",
      "metadata": {
        "id": "bocGADFRnYRp",
        "colab": {
          "base_uri": "https://localhost:8080/"
        },
        "outputId": "d55d3c98-7852-4dfa-fdee-f2c43189b9c5"
      },
      "source": [
        "df_train['isDuplicate'].value_counts()"
      ],
      "execution_count": null,
      "outputs": [
        {
          "output_type": "execute_result",
          "data": {
            "text/plain": [
              "0.0    6866\n",
              "1.0    1035\n",
              "Name: isDuplicate, dtype: int64"
            ]
          },
          "metadata": {},
          "execution_count": 168
        }
      ]
    },
    {
      "cell_type": "markdown",
      "metadata": {
        "id": "EV431VJvzwll"
      },
      "source": [
        "# Train pytorch NN"
      ]
    },
    {
      "cell_type": "code",
      "metadata": {
        "id": "Q8UbG3-mzys7"
      },
      "source": [
        "model = NN(d=dimension).to(device)"
      ],
      "execution_count": null,
      "outputs": []
    },
    {
      "cell_type": "code",
      "metadata": {
        "id": "ViXtxAfO1ruy"
      },
      "source": [
        "train_set, test_set = dedupDataset(df_train, embeddings_index), dedupDataset(df_test, embeddings_index)\n",
        "train_loader = DataLoader(train_set, batch_size=100)\n",
        "test_loader = DataLoader(test_set, batch_size=len(df_test))\n"
      ],
      "execution_count": null,
      "outputs": []
    },
    {
      "cell_type": "code",
      "metadata": {
        "id": "sAkUA8nEz2Z7"
      },
      "source": [
        "# create your optimizer\n",
        "optimizer = optim.Adam(model.parameters(), lr=0.0001)\n",
        "loss_fn = nn.BCELoss()"
      ],
      "execution_count": null,
      "outputs": []
    },
    {
      "cell_type": "code",
      "metadata": {
        "id": "j2s4NM0Z5Qlp"
      },
      "source": [
        "def binary_acc(y_pred, y_ground):\n",
        "\n",
        "    # print(y_pred, y_ground)  \n",
        "    y_pred_tag = torch.round(y_pred)\n",
        "    # print(y_pred_tag, y_ground)  \n",
        "\n",
        "\n",
        "    correct_results_sum = (y_pred_tag == y_ground).sum().float()\n",
        "    # print(correct_results_sum)\n",
        "    acc = correct_results_sum/y_ground.shape[0]\n",
        "    acc = torch.round(acc * 100)\n",
        "    \n",
        "    return acc"
      ],
      "execution_count": null,
      "outputs": []
    },
    {
      "cell_type": "code",
      "metadata": {
        "colab": {
          "base_uri": "https://localhost:8080/"
        },
        "id": "OOZuCrV81U6i",
        "outputId": "44a2afda-50e1-4219-f87b-026912802875"
      },
      "source": [
        "epochs=65\n",
        "#forward loop\n",
        "losses = []\n",
        "accur = []\n",
        "for i in range(epochs):\n",
        "  for j,(x_train,y_train) in enumerate(train_loader):\n",
        "    x_train,y_train = x_train.to(device), y_train.to(device)\n",
        "    #calculate output\n",
        "    output = model(x_train)\n",
        " \n",
        "    #calculate loss\n",
        "    loss = loss_fn(output,y_train.reshape(-1,1))\n",
        "    \n",
        "    acc = binary_acc(output, y_train.reshape(-1,1))\n",
        "    #backprop\n",
        "    optimizer.zero_grad()\n",
        "    loss.backward()\n",
        "    optimizer.step()\n",
        "\n",
        "  if i%5 == 0:\n",
        "    losses.append(loss)\n",
        "    accur.append(acc)\n",
        "    print(\"epoch {}\\tloss : {}\\t accuracy : {}\".format(i,loss,acc))"
      ],
      "execution_count": null,
      "outputs": [
        {
          "output_type": "stream",
          "name": "stderr",
          "text": [
            "/usr/local/lib/python3.7/dist-packages/torch/nn/functional.py:1805: UserWarning: nn.functional.sigmoid is deprecated. Use torch.sigmoid instead.\n",
            "  warnings.warn(\"nn.functional.sigmoid is deprecated. Use torch.sigmoid instead.\")\n"
          ]
        },
        {
          "output_type": "stream",
          "name": "stdout",
          "text": [
            "epoch 0\tloss : 0.44416213035583496\t accuracy : 100.0\n",
            "epoch 5\tloss : 0.03259296342730522\t accuracy : 100.0\n",
            "epoch 10\tloss : 0.022105703130364418\t accuracy : 100.0\n",
            "epoch 15\tloss : 0.01323110330849886\t accuracy : 100.0\n",
            "epoch 20\tloss : 0.005642448086291552\t accuracy : 100.0\n",
            "epoch 25\tloss : 0.002199324779212475\t accuracy : 100.0\n",
            "epoch 30\tloss : 0.0008947678725235164\t accuracy : 100.0\n",
            "epoch 35\tloss : 0.000412608846090734\t accuracy : 100.0\n",
            "epoch 40\tloss : 0.000188606878509745\t accuracy : 100.0\n",
            "epoch 45\tloss : 8.309232362080365e-05\t accuracy : 100.0\n",
            "epoch 50\tloss : 3.6776742490474135e-05\t accuracy : 100.0\n",
            "epoch 55\tloss : 1.6987467461149208e-05\t accuracy : 100.0\n",
            "epoch 60\tloss : 7.629423635080457e-06\t accuracy : 100.0\n"
          ]
        }
      ]
    },
    {
      "cell_type": "code",
      "metadata": {
        "colab": {
          "base_uri": "https://localhost:8080/"
        },
        "id": "yt9yafQb24e5",
        "outputId": "d20c412b-a821-469d-b7d1-7c674d7cad0d"
      },
      "source": [
        "y_truth_list = []\n",
        "y_pred_list = []\n",
        "model.eval()\n",
        "with torch.no_grad():\n",
        "  for j,(x_test,y_test) in enumerate(test_loader):\n",
        "      x_test,y_test = x_test.to(device), y_test.to(device)\n",
        "      #calculate output\n",
        "      output = model(x_test)\n",
        "  \n",
        "      acc = binary_acc(output, y_test.reshape(-1,1))\n",
        "\n"
      ],
      "execution_count": null,
      "outputs": [
        {
          "output_type": "stream",
          "name": "stderr",
          "text": [
            "/usr/local/lib/python3.7/dist-packages/torch/nn/functional.py:1805: UserWarning: nn.functional.sigmoid is deprecated. Use torch.sigmoid instead.\n",
            "  warnings.warn(\"nn.functional.sigmoid is deprecated. Use torch.sigmoid instead.\")\n"
          ]
        }
      ]
    },
    {
      "cell_type": "code",
      "metadata": {
        "colab": {
          "base_uri": "https://localhost:8080/"
        },
        "id": "qHBSUEQr7Tmg",
        "outputId": "1e107b44-6da9-4c7b-a44e-cfe64437bf2a"
      },
      "source": [
        "acc"
      ],
      "execution_count": null,
      "outputs": [
        {
          "output_type": "execute_result",
          "data": {
            "text/plain": [
              "tensor(98., device='cuda:0')"
            ]
          },
          "metadata": {},
          "execution_count": 176
        }
      ]
    },
    {
      "cell_type": "code",
      "metadata": {
        "id": "RedxBQCu84c-"
      },
      "source": [
        "y_pred = torch.round(output.reshape(-1))"
      ],
      "execution_count": null,
      "outputs": []
    },
    {
      "cell_type": "code",
      "metadata": {
        "id": "9KTaCkcx_Z9d"
      },
      "source": [
        "y_pred_arr = np.asarray(y_pred.cpu())\n",
        "y_test_arr = np.asarray(y_test.cpu())"
      ],
      "execution_count": null,
      "outputs": []
    },
    {
      "cell_type": "code",
      "metadata": {
        "id": "gwW7CFzf_qDg"
      },
      "source": [
        "from sklearn.metrics import roc_curve, classification_report"
      ],
      "execution_count": null,
      "outputs": []
    },
    {
      "cell_type": "code",
      "metadata": {
        "colab": {
          "base_uri": "https://localhost:8080/"
        },
        "id": "TdSd3bwi_80e",
        "outputId": "3daeb592-f0aa-4ebe-f620-2959c805b972"
      },
      "source": [
        "print(classification_report(y_test_arr, y_pred_arr))"
      ],
      "execution_count": null,
      "outputs": [
        {
          "output_type": "stream",
          "name": "stdout",
          "text": [
            "              precision    recall  f1-score   support\n",
            "\n",
            "         0.0       0.99      0.99      0.99      2909\n",
            "         1.0       0.95      0.93      0.94       478\n",
            "\n",
            "    accuracy                           0.98      3387\n",
            "   macro avg       0.97      0.96      0.97      3387\n",
            "weighted avg       0.98      0.98      0.98      3387\n",
            "\n"
          ]
        }
      ]
    },
    {
      "cell_type": "code",
      "metadata": {
        "colab": {
          "base_uri": "https://localhost:8080/",
          "height": 265
        },
        "id": "MlJ0NZv8ACaL",
        "outputId": "2cb320b8-5db5-45a8-ae85-293fd72194b0"
      },
      "source": [
        "fpr, tpr, thresholds = roc_curve(y_test_arr, y_pred_arr)\n",
        "plt.plot(fpr,tpr)\n",
        "plt.show()"
      ],
      "execution_count": null,
      "outputs": [
        {
          "output_type": "display_data",
          "data": {
            "image/png": "[encoded data removed]",
            "text/plain": [
              "<Figure size 432x288 with 1 Axes>"
            ]
          },
          "metadata": {
            "needs_background": "light"
          }
        }
      ]
    },
    {
      "cell_type": "code",
      "metadata": {
        "colab": {
          "base_uri": "https://localhost:8080/"
        },
        "id": "7ZdXzjkzATBL",
        "outputId": "f44c7395-783f-4f52-b293-d2768198b548"
      },
      "source": [
        "print(model)"
      ],
      "execution_count": null,
      "outputs": [
        {
          "output_type": "stream",
          "name": "stdout",
          "text": [
            "NN(\n",
            "  (fc1): Linear(in_features=200, out_features=100, bias=True)\n",
            "  (fc2): Linear(in_features=100, out_features=64, bias=True)\n",
            "  (fc3): Linear(in_features=64, out_features=1, bias=True)\n",
            ")\n"
          ]
        }
      ]
    },
    {
      "cell_type": "code",
      "metadata": {
        "id": "64NswBEuLFk_"
      },
      "source": [
        ""
      ],
      "execution_count": null,
      "outputs": []
    }
  ]
}