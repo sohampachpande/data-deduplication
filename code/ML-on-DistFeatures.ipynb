{
 "cells": [
  {
   "cell_type": "code",
   "execution_count": null,
   "id": "3acc138f",
   "metadata": {},
   "outputs": [],
   "source": [
    "#Copyright 2020 Soham Pachpande, Gehan Chopade, Arun Kumar\n",
    "#\n",
    "#Licensed under the Apache License, Version 2.0 (the \"License\");\n",
    "#you may not use this file except in compliance with the License.\n",
    "#You may obtain a copy of the License at\n",
    "#\n",
    "#    http://www.apache.org/licenses/LICENSE-2.0\n",
    "#\n",
    "#Unless required by applicable law or agreed to in writing, software\n",
    "#distributed under the License is distributed on an \"AS IS\" BASIS,\n",
    "#WITHOUT WARRANTIES OR CONDITIONS OF ANY KIND, either express or implied.\n",
    "#See the License for the specific language governing permissions and\n",
    "#limitations under the License."
   ]
  },
  {
   "cell_type": "code",
   "execution_count": 1,
   "id": "ce7f20f8",
   "metadata": {},
   "outputs": [],
   "source": [
    "import pandas as pd\n",
    "import numpy as np\n",
    "from sklearn.model_selection import train_test_split\n",
    "from sklearn.metrics import classification_report,confusion_matrix\n",
    "from dedup_lib.utils import makeCFwithStats"
   ]
  },
  {
   "cell_type": "markdown",
   "id": "9e45a3a5",
   "metadata": {},
   "source": [
    "### Read Data and process Data"
   ]
  },
  {
   "cell_type": "code",
   "execution_count": 2,
   "id": "e38be904",
   "metadata": {},
   "outputs": [],
   "source": [
    "data_path = \"featurizedData/distFeatureData.csv\"\n",
    "df=pd.read_csv(data_path)"
   ]
  },
  {
   "cell_type": "code",
   "execution_count": 3,
   "id": "1e9ea5f3",
   "metadata": {},
   "outputs": [
    {
     "data": {
      "text/html": [
       "<div>\n",
       "<style scoped>\n",
       "    .dataframe tbody tr th:only-of-type {\n",
       "        vertical-align: middle;\n",
       "    }\n",
       "\n",
       "    .dataframe tbody tr th {\n",
       "        vertical-align: top;\n",
       "    }\n",
       "\n",
       "    .dataframe thead th {\n",
       "        text-align: right;\n",
       "    }\n",
       "</style>\n",
       "<table border=\"1\" class=\"dataframe\">\n",
       "  <thead>\n",
       "    <tr style=\"text-align: right;\">\n",
       "      <th></th>\n",
       "      <th>w1</th>\n",
       "      <th>w2</th>\n",
       "      <th>count1</th>\n",
       "      <th>count2</th>\n",
       "      <th>total1</th>\n",
       "      <th>total2</th>\n",
       "      <th>isDuplicate</th>\n",
       "      <th>jaccard_1</th>\n",
       "      <th>jaccard_2</th>\n",
       "      <th>jaccard_3</th>\n",
       "      <th>cosine_1</th>\n",
       "      <th>cosine_2</th>\n",
       "      <th>cosine_3</th>\n",
       "      <th>w_levenshtein</th>\n",
       "    </tr>\n",
       "  </thead>\n",
       "  <tbody>\n",
       "    <tr>\n",
       "      <th>0</th>\n",
       "      <td>libya</td>\n",
       "      <td>lesotho</td>\n",
       "      <td>89.0</td>\n",
       "      <td>368.0</td>\n",
       "      <td>48269.0</td>\n",
       "      <td>48269.0</td>\n",
       "      <td>0.0</td>\n",
       "      <td>0.900000</td>\n",
       "      <td>1.000000</td>\n",
       "      <td>1.000000</td>\n",
       "      <td>0.850929</td>\n",
       "      <td>1.000000</td>\n",
       "      <td>1.000000</td>\n",
       "      <td>6.0</td>\n",
       "    </tr>\n",
       "    <tr>\n",
       "      <th>1</th>\n",
       "      <td>00850-9846</td>\n",
       "      <td>09830-2602</td>\n",
       "      <td>1.0</td>\n",
       "      <td>1.0</td>\n",
       "      <td>1973.0</td>\n",
       "      <td>1973.0</td>\n",
       "      <td>0.0</td>\n",
       "      <td>0.444444</td>\n",
       "      <td>0.875000</td>\n",
       "      <td>1.000000</td>\n",
       "      <td>0.222222</td>\n",
       "      <td>0.777778</td>\n",
       "      <td>1.000000</td>\n",
       "      <td>6.0</td>\n",
       "    </tr>\n",
       "    <tr>\n",
       "      <th>2</th>\n",
       "      <td>a1050000006tnqi</td>\n",
       "      <td>a1050000000wves</td>\n",
       "      <td>265.0</td>\n",
       "      <td>151.0</td>\n",
       "      <td>4861.0</td>\n",
       "      <td>4861.0</td>\n",
       "      <td>0.0</td>\n",
       "      <td>0.692308</td>\n",
       "      <td>0.642857</td>\n",
       "      <td>0.642857</td>\n",
       "      <td>0.072561</td>\n",
       "      <td>0.120951</td>\n",
       "      <td>0.164427</td>\n",
       "      <td>5.0</td>\n",
       "    </tr>\n",
       "    <tr>\n",
       "      <th>3</th>\n",
       "      <td>plus_statistical_discrepancy</td>\n",
       "      <td>imports_of_services</td>\n",
       "      <td>5504.0</td>\n",
       "      <td>7982.0</td>\n",
       "      <td>191325.0</td>\n",
       "      <td>191325.0</td>\n",
       "      <td>0.0</td>\n",
       "      <td>0.555556</td>\n",
       "      <td>0.923077</td>\n",
       "      <td>1.000000</td>\n",
       "      <td>0.313096</td>\n",
       "      <td>0.876909</td>\n",
       "      <td>1.000000</td>\n",
       "      <td>23.0</td>\n",
       "    </tr>\n",
       "    <tr>\n",
       "      <th>4</th>\n",
       "      <td>ca-mb ca-sb sb</td>\n",
       "      <td>ca-mb ca-sb ca-sbe cdvbe mbe mosb sb sbasdb sd...</td>\n",
       "      <td>3781.0</td>\n",
       "      <td>1.0</td>\n",
       "      <td>346018.0</td>\n",
       "      <td>346018.0</td>\n",
       "      <td>0.0</td>\n",
       "      <td>0.363636</td>\n",
       "      <td>0.590909</td>\n",
       "      <td>0.666667</td>\n",
       "      <td>0.088993</td>\n",
       "      <td>0.190076</td>\n",
       "      <td>0.279512</td>\n",
       "      <td>36.0</td>\n",
       "    </tr>\n",
       "  </tbody>\n",
       "</table>\n",
       "</div>"
      ],
      "text/plain": [
       "                             w1  \\\n",
       "0                         libya   \n",
       "1                    00850-9846   \n",
       "2               a1050000006tnqi   \n",
       "3  plus_statistical_discrepancy   \n",
       "4                ca-mb ca-sb sb   \n",
       "\n",
       "                                                  w2  count1  count2  \\\n",
       "0                                            lesotho    89.0   368.0   \n",
       "1                                         09830-2602     1.0     1.0   \n",
       "2                                    a1050000000wves   265.0   151.0   \n",
       "3                                imports_of_services  5504.0  7982.0   \n",
       "4  ca-mb ca-sb ca-sbe cdvbe mbe mosb sb sbasdb sd...  3781.0     1.0   \n",
       "\n",
       "     total1    total2  isDuplicate  jaccard_1  jaccard_2  jaccard_3  cosine_1  \\\n",
       "0   48269.0   48269.0          0.0   0.900000   1.000000   1.000000  0.850929   \n",
       "1    1973.0    1973.0          0.0   0.444444   0.875000   1.000000  0.222222   \n",
       "2    4861.0    4861.0          0.0   0.692308   0.642857   0.642857  0.072561   \n",
       "3  191325.0  191325.0          0.0   0.555556   0.923077   1.000000  0.313096   \n",
       "4  346018.0  346018.0          0.0   0.363636   0.590909   0.666667  0.088993   \n",
       "\n",
       "   cosine_2  cosine_3  w_levenshtein  \n",
       "0  1.000000  1.000000            6.0  \n",
       "1  0.777778  1.000000            6.0  \n",
       "2  0.120951  0.164427            5.0  \n",
       "3  0.876909  1.000000           23.0  \n",
       "4  0.190076  0.279512           36.0  "
      ]
     },
     "execution_count": 3,
     "metadata": {},
     "output_type": "execute_result"
    }
   ],
   "source": [
    "df.head()"
   ]
  },
  {
   "cell_type": "code",
   "execution_count": 4,
   "id": "0d71f90f",
   "metadata": {},
   "outputs": [],
   "source": [
    "X_train, X_test, y_train, y_test = train_test_split(df.drop(['isDuplicate','w1','w2', 'count1', 'count2', 'total1', 'total2'],axis=1), \n",
    "                                                    df['isDuplicate'], test_size=0.3)"
   ]
  },
  {
   "cell_type": "markdown",
   "id": "7c0d0eb7",
   "metadata": {},
   "source": [
    "# ML Models"
   ]
  },
  {
   "cell_type": "markdown",
   "id": "90e7cf70",
   "metadata": {},
   "source": [
    "### Logistic Regression on all Features"
   ]
  },
  {
   "cell_type": "code",
   "execution_count": 5,
   "id": "5ddeda4e",
   "metadata": {},
   "outputs": [],
   "source": [
    "from sklearn.linear_model import LogisticRegression\n",
    "logmodel = LogisticRegression()\n",
    "logmodel.fit(X_train,y_train)\n",
    "predictions = logmodel.predict(X_test)"
   ]
  },
  {
   "cell_type": "code",
   "execution_count": 8,
   "id": "d725e780",
   "metadata": {},
   "outputs": [
    {
     "data": {
      "image/png": "[encoded data removed]",
      "text/plain": [
       "<Figure size 432x360 with 2 Axes>"
      ]
     },
     "metadata": {
      "needs_background": "light"
     },
     "output_type": "display_data"
    },
    {
     "name": "stdout",
     "output_type": "stream",
     "text": [
      "              precision    recall  f1-score   support\n",
      "\n",
      "         0.0       0.94      0.98      0.96      2833\n",
      "         1.0       0.87      0.66      0.75       552\n",
      "\n",
      "    accuracy                           0.93      3385\n",
      "   macro avg       0.90      0.82      0.85      3385\n",
      "weighted avg       0.93      0.93      0.92      3385\n",
      "\n"
     ]
    }
   ],
   "source": [
    "makeCFwithStats(predictions, y_test)\n",
    "print(classification_report(y_test, predictions))"
   ]
  },
  {
   "cell_type": "markdown",
   "id": "8123f61a",
   "metadata": {},
   "source": [
    "### Feature Engineering"
   ]
  },
  {
   "cell_type": "code",
   "execution_count": 9,
   "id": "96ee304a",
   "metadata": {},
   "outputs": [
    {
     "name": "stdout",
     "output_type": "stream",
     "text": [
      "['jaccard_1' 'jaccard_2' 'jaccard_3' 'cosine_1' 'cosine_2' 'cosine_3'\n",
      " 'w_levenshtein'] [3979.602 8249.746 7990.367 2612.699 6727.747 6936.518  418.923]\n"
     ]
    }
   ],
   "source": [
    "from numpy import set_printoptions\n",
    "from sklearn.linear_model import LogisticRegression\n",
    "from sklearn.feature_selection import SelectKBest\n",
    "from sklearn.feature_selection import f_classif\n",
    "from sklearn.model_selection import train_test_split\n",
    "\n",
    "X_train['w_levenshtein']=X_train['w_levenshtein']/X_train['w_levenshtein'].max()\n",
    "X_train.head()\n",
    "test = SelectKBest(score_func=f_classif, k=3)\n",
    "fit = test.fit(X_train, y_train)\n",
    "# summarize scores\n",
    "set_printoptions(precision=3)\n",
    "print(fit.feature_names_in_ ,fit.scores_)"
   ]
  },
  {
   "cell_type": "markdown",
   "id": "faf1968c",
   "metadata": {},
   "source": [
    "### The top features are cosine_2,cosine_3,jaccard_2,jaccard_3"
   ]
  },
  {
   "cell_type": "markdown",
   "id": "9ebe578c",
   "metadata": {},
   "source": [
    "## Models on top features"
   ]
  },
  {
   "cell_type": "code",
   "execution_count": 10,
   "id": "3cdc155d",
   "metadata": {},
   "outputs": [
    {
     "data": {
      "image/png": "[encoded data removed]",
      "text/plain": [
       "<Figure size 432x360 with 2 Axes>"
      ]
     },
     "metadata": {
      "needs_background": "light"
     },
     "output_type": "display_data"
    },
    {
     "name": "stdout",
     "output_type": "stream",
     "text": [
      "              precision    recall  f1-score   support\n",
      "\n",
      "         0.0       0.94      0.98      0.96      2863\n",
      "         1.0       0.86      0.64      0.73       522\n",
      "\n",
      "    accuracy                           0.93      3385\n",
      "   macro avg       0.90      0.81      0.85      3385\n",
      "weighted avg       0.93      0.93      0.92      3385\n",
      "\n"
     ]
    }
   ],
   "source": [
    "# Logistic Regression\n",
    "\n",
    "X_train, X_test, y_train, y_test = train_test_split(df[['cosine_2','cosine_3','jaccard_2','jaccard_3']],df['isDuplicate'], test_size=0.3)\n",
    "logmodel = LogisticRegression()\n",
    "logmodel.fit(X_train,y_train)\n",
    "predictions = logmodel.predict(X_test)\n",
    "makeCFwithStats(predictions, y_test)\n",
    "print(classification_report(y_test, predictions))"
   ]
  },
  {
   "cell_type": "code",
   "execution_count": 11,
   "id": "eb66a97f",
   "metadata": {},
   "outputs": [
    {
     "data": {
      "image/png": "[encoded data removed]",
      "text/plain": [
       "<Figure size 432x360 with 2 Axes>"
      ]
     },
     "metadata": {
      "needs_background": "light"
     },
     "output_type": "display_data"
    },
    {
     "name": "stdout",
     "output_type": "stream",
     "text": [
      "              precision    recall  f1-score   support\n",
      "\n",
      "         0.0       0.96      0.98      0.97      2863\n",
      "         1.0       0.85      0.75      0.79       522\n",
      "\n",
      "    accuracy                           0.94      3385\n",
      "   macro avg       0.90      0.86      0.88      3385\n",
      "weighted avg       0.94      0.94      0.94      3385\n",
      "\n"
     ]
    }
   ],
   "source": [
    "# SVM\n",
    "\n",
    "from sklearn.svm import SVC\n",
    "svm = SVC()\n",
    "svm.fit(X_train,y_train)\n",
    "predictions = svm.predict(X_test)\n",
    "makeCFwithStats(predictions, y_test)\n",
    "print(classification_report(y_test, predictions))"
   ]
  },
  {
   "cell_type": "markdown",
   "id": "b38da982",
   "metadata": {},
   "source": [
    "### Decision Tree"
   ]
  },
  {
   "cell_type": "code",
   "execution_count": 12,
   "id": "56c02300",
   "metadata": {},
   "outputs": [
    {
     "data": {
      "image/png": "[encoded data removed]",
      "text/plain": [
       "<Figure size 432x360 with 2 Axes>"
      ]
     },
     "metadata": {
      "needs_background": "light"
     },
     "output_type": "display_data"
    },
    {
     "name": "stdout",
     "output_type": "stream",
     "text": [
      "              precision    recall  f1-score   support\n",
      "\n",
      "         0.0       0.97      0.99      0.98      2863\n",
      "         1.0       0.95      0.81      0.88       522\n",
      "\n",
      "    accuracy                           0.96      3385\n",
      "   macro avg       0.96      0.90      0.93      3385\n",
      "weighted avg       0.96      0.96      0.96      3385\n",
      "\n"
     ]
    }
   ],
   "source": [
    "from sklearn.tree import DecisionTreeClassifier\n",
    "tree = DecisionTreeClassifier()\n",
    "tree = tree.fit(X_train,y_train)\n",
    "predictions = tree.predict(X_test)\n",
    "makeCFwithStats(predictions, y_test)\n",
    "print(classification_report(y_test, predictions))"
   ]
  },
  {
   "cell_type": "markdown",
   "id": "e1eea203",
   "metadata": {},
   "source": [
    "### Random Forest"
   ]
  },
  {
   "cell_type": "code",
   "execution_count": 13,
   "id": "d77231cf",
   "metadata": {},
   "outputs": [
    {
     "data": {
      "image/png": "[encoded data removed]",
      "text/plain": [
       "<Figure size 432x360 with 2 Axes>"
      ]
     },
     "metadata": {
      "needs_background": "light"
     },
     "output_type": "display_data"
    },
    {
     "name": "stdout",
     "output_type": "stream",
     "text": [
      "              precision    recall  f1-score   support\n",
      "\n",
      "         0.0       0.97      0.99      0.98      2863\n",
      "         1.0       0.95      0.81      0.87       522\n",
      "\n",
      "    accuracy                           0.96      3385\n",
      "   macro avg       0.96      0.90      0.93      3385\n",
      "weighted avg       0.96      0.96      0.96      3385\n",
      "\n"
     ]
    }
   ],
   "source": [
    "from sklearn.ensemble import RandomForestClassifier\n",
    "model = RandomForestClassifier(n_estimators=100, \n",
    "                               bootstrap = True,\n",
    "                               max_features = 'sqrt')\n",
    "model.fit(X_train, y_train)\n",
    "predictions=model.predict(X_test)\n",
    "makeCFwithStats(predictions, y_test)\n",
    "print(classification_report(y_test, predictions))"
   ]
  }
 ],
 "metadata": {
  "kernelspec": {
   "display_name": "Python 3 (ipykernel)",
   "language": "python",
   "name": "python3"
  },
  "language_info": {
   "codemirror_mode": {
    "name": "ipython",
    "version": 3
   },
   "file_extension": ".py",
   "mimetype": "text/x-python",
   "name": "python",
   "nbconvert_exporter": "python",
   "pygments_lexer": "ipython3",
   "version": "3.8.12"
  }
 },
 "nbformat": 4,
 "nbformat_minor": 5
}
